{
 "cells": [
  {
   "cell_type": "code",
   "execution_count": 1,
   "id": "4ad672a0",
   "metadata": {},
   "outputs": [],
   "source": [
    "# take the general effect of amyloid lowering -> improved cognition rom the meta0analysis \n",
    "# Ackley SF, Zimmerman SC, Brenowitz WD, Tchetgen EJT, Gold AL, Manly JJ, Mayeda ER, Filshtein TJ, Power MC, Elahi FM, Brickman AM, Glymour MM. Effect of reductions in amyloid levels on cognitive change in randomized trials: instrumental variable meta-analysis. Bmj. 2021;372:n156.\n",
    "\n",
    "## redtag - make sure to get the updated version of this that added teh extra data, there is an errata to the initial paper\n",
    "\n",
    "# for all da\n",
    "\n",
    "# this will give us change in amyloid lowering -> MMSE\n",
    "\n",
    "allDataSUVRToMMSEMean = 0.034\n",
    "allDataSUVRToMMSESE = 0.046\n",
    "\n",
    "amyloidSUVRTToMMSEMean = 0.044\n",
    "amyloidSUVRTToMMSESE = 0.049\n",
    "\n",
    "# it looks like they have an version of this that uses CDR-SB in their appendix\n",
    "# it also looks like they have an updated version of the analysis on their shiny app: https://amyloidintegratingevidence.shinyapps.io/Shiny/ "
   ]
  },
  {
   "cell_type": "code",
   "execution_count": 2,
   "id": "5a4a0123",
   "metadata": {},
   "outputs": [],
   "source": [
    "# generate a prior — multiply the eneral effect by the distribution fo that association to get the expected effect of lecanemab\n",
    "# redtag: need to clarify what SUVR means...going to assume that # going to assume that their degree of amyloid in % change in centiloids transfers to SUVR\n",
    "\n",
    "# not sure if this should be on a relative scale or an absolute one\n",
    "changeIn18MonthSUVRMean = 55.5\n",
    "changeIn18MonthSUVRSE = 1.80\n",
    "\n",
    "averageBaselineCentiloids = 76.5\n",
    "\n",
    "relativeChangeIn18MonthSUVRMean = changeIn18MonthSUVRMean/averageBaselineCentiloids\n",
    "relativeChangeIn18MonthSUVRSE = changeIn18MonthSUVRSE/averageBaselineCentiloids\n",
    "\n",
    "\n",
    "# update the prior using the observed effect from the lecanemab trial...to get a posterior"
   ]
  },
  {
   "cell_type": "code",
   "execution_count": 3,
   "id": "073bf6bd",
   "metadata": {},
   "outputs": [],
   "source": [
    "meanCDRSBChangeWithLecanemabInTrial=-0.45\n",
    "sdCDRSBChangeWithLecanemabInTrial=0.11"
   ]
  },
  {
   "cell_type": "code",
   "execution_count": 4,
   "id": "64d02ac5",
   "metadata": {},
   "outputs": [
    {
     "data": {
      "text/plain": [
       "<matplotlib.collections.PathCollection at 0x7faf6141d600>"
      ]
     },
     "execution_count": 4,
     "metadata": {},
     "output_type": "execute_result"
    },
    {
     "data": {
      "image/png": "[encoded data removed]",
      "text/plain": [
       "<Figure size 640x480 with 1 Axes>"
      ]
     },
     "metadata": {},
     "output_type": "display_data"
    }
   ],
   "source": [
    "import numpy as np\n",
    "import matplotlib.pyplot as plt\n",
    "\n",
    "# reproducing the MMSE -> CDR-SB measure converion from Ackley\n",
    "# https://www.bmj.com/content/bmj/suppl/2021/02/25/bmj.n156.DC1/acks057847.ww.pdf\n",
    "mmseToCDRSBIntercept = 30\n",
    "mmseToCDRSBSlope = (20.75-30)/6.25\n",
    "\n",
    "xs = np.arange(0, 7, .1)\n",
    "ys = mmseToCDRSBIntercept + xs*mmseToCDRSBSlope\n",
    "plt.scatter(xs, ys)"
   ]
  },
  {
   "cell_type": "code",
   "execution_count": 5,
   "id": "42fa042e",
   "metadata": {},
   "outputs": [],
   "source": [
    "# use appendix 4 fro the ackley paper to convert the MMSE posterior to a postrioer aligned with teh primary outcomes of the lecanemab trial"
   ]
  },
  {
   "cell_type": "code",
   "execution_count": 6,
   "id": "ae5ab30e",
   "metadata": {},
   "outputs": [
    {
     "name": "stderr",
     "output_type": "stream",
     "text": [
      "WARNING (pytensor.tensor.blas): Using NumPy C-API based implementation for BLAS functions.\n"
     ]
    }
   ],
   "source": [
    "import pymc as pm"
   ]
  },
  {
   "cell_type": "code",
   "execution_count": 10,
   "id": "e0366827",
   "metadata": {},
   "outputs": [
    {
     "name": "stderr",
     "output_type": "stream",
     "text": [
      "ERROR (pytensor.graph.rewriting.basic): Rewrite failure due to: constant_folding\n",
      "ERROR (pytensor.graph.rewriting.basic): node: Elemwise{Cast{float64}}(TensorConstant{30})\n",
      "ERROR (pytensor.graph.rewriting.basic): TRACEBACK:\n",
      "ERROR (pytensor.graph.rewriting.basic): Traceback (most recent call last):\n",
      "  File \"/Users/burke.227/opt/anaconda3/envs/pymc/lib/python3.10/site-packages/pytensor/graph/rewriting/basic.py\", line 1925, in process_node\n",
      "    replacements = node_rewriter.transform(fgraph, node)\n",
      "  File \"/Users/burke.227/opt/anaconda3/envs/pymc/lib/python3.10/site-packages/pytensor/graph/rewriting/basic.py\", line 1084, in transform\n",
      "    return self.fn(fgraph, node)\n",
      "  File \"/Users/burke.227/opt/anaconda3/envs/pymc/lib/python3.10/site-packages/pytensor/tensor/rewriting/basic.py\", line 1141, in constant_folding\n",
      "    thunk = node.op.make_thunk(node, storage_map, compute_map, no_recycling=[])\n",
      "  File \"/Users/burke.227/opt/anaconda3/envs/pymc/lib/python3.10/site-packages/pytensor/link/c/op.py\", line 131, in make_thunk\n",
      "    return self.make_c_thunk(node, storage_map, compute_map, no_recycling)\n",
      "  File \"/Users/burke.227/opt/anaconda3/envs/pymc/lib/python3.10/site-packages/pytensor/link/c/op.py\", line 96, in make_c_thunk\n",
      "    outputs = cl.make_thunk(\n",
      "  File \"/Users/burke.227/opt/anaconda3/envs/pymc/lib/python3.10/site-packages/pytensor/link/c/basic.py\", line 1202, in make_thunk\n",
      "    cthunk, module, in_storage, out_storage, error_storage = self.__compile__(\n",
      "  File \"/Users/burke.227/opt/anaconda3/envs/pymc/lib/python3.10/site-packages/pytensor/link/c/basic.py\", line 1122, in __compile__\n",
      "    thunk, module = self.cthunk_factory(\n",
      "  File \"/Users/burke.227/opt/anaconda3/envs/pymc/lib/python3.10/site-packages/pytensor/link/c/basic.py\", line 1647, in cthunk_factory\n",
      "    module = cache.module_from_key(key=key, lnk=self)\n",
      "  File \"/Users/burke.227/opt/anaconda3/envs/pymc/lib/python3.10/site-packages/pytensor/link/c/cmodule.py\", line 1231, in module_from_key\n",
      "    module = lnk.compile_cmodule(location)\n",
      "  File \"/Users/burke.227/opt/anaconda3/envs/pymc/lib/python3.10/site-packages/pytensor/link/c/basic.py\", line 1546, in compile_cmodule\n",
      "    module = c_compiler.compile_str(\n",
      "  File \"/Users/burke.227/opt/anaconda3/envs/pymc/lib/python3.10/site-packages/pytensor/link/c/cmodule.py\", line 2641, in compile_str\n",
      "    raise CompileError(\n",
      "pytensor.link.c.exceptions.CompileError: Compilation failed (return status=1):\n",
      "/Users/burke.227/opt/anaconda3/envs/pymc/bin/clang++ -dynamiclib -g -O3 -fno-math-errno -Wno-unused-label -Wno-unused-variable -Wno-write-strings -Wno-c++11-narrowing -fno-exceptions -fno-unwind-tables -fno-asynchronous-unwind-tables -DNPY_NO_DEPRECATED_API=NPY_1_7_API_VERSION -m64 -fPIC -undefined dynamic_lookup -I/Users/burke.227/opt/anaconda3/envs/pymc/lib/python3.10/site-packages/numpy/core/include -I/Users/burke.227/opt/anaconda3/envs/pymc/include/python3.10 -I/Users/burke.227/opt/anaconda3/envs/pymc/lib/python3.10/site-packages/pytensor/link/c/c_code -L/Users/burke.227/opt/anaconda3/envs/pymc/lib -fvisibility=hidden -o /Users/burke.227/.pytensor/compiledir_macOS-10.16-x86_64-i386-64bit-i386-3.10.9-64/tmpjjssyjox/maf7dfc2b98019ae231490759913de9c7eae2cf26062201cb60a34079dffa7f98.so /Users/burke.227/.pytensor/compiledir_macOS-10.16-x86_64-i386-64bit-i386-3.10.9-64/tmpjjssyjox/mod.cpp\n",
      "In file included from /Users/burke.227/.pytensor/compiledir_macOS-10.16-x86_64-i386-64bit-i386-3.10.9-64/tmpjjssyjox/mod.cpp:1:\n",
      "In file included from /Users/burke.227/opt/anaconda3/envs/pymc/include/python3.10/Python.h:25:\n",
      "/Users/burke.227/opt/anaconda3/envs/pymc/bin/../include/c++/v1/stdio.h:107:15: fatal error: 'stdio.h' file not found\n",
      "#include_next <stdio.h>\n",
      "              ^~~~~~~~~\n",
      "1 error generated.\n",
      "\n",
      "\n"
     ]
    },
    {
     "name": "stdout",
     "output_type": "stream",
     "text": [
      "\n",
      "You can find the C code in this temporary file: /var/folders/wd/wlg9qv65701fzmgdkdfy5vtm0000gr/T/pytensor_compilation_error_62q8dgtf\n"
     ]
    },
    {
     "name": "stderr",
     "output_type": "stream",
     "text": [
      "ERROR (pytensor.graph.rewriting.basic): Rewrite failure due to: constant_folding\n",
      "ERROR (pytensor.graph.rewriting.basic): node: Elemwise{Cast{float64}}(TensorConstant{30})\n",
      "ERROR (pytensor.graph.rewriting.basic): TRACEBACK:\n",
      "ERROR (pytensor.graph.rewriting.basic): Traceback (most recent call last):\n",
      "  File \"/Users/burke.227/opt/anaconda3/envs/pymc/lib/python3.10/site-packages/pytensor/graph/rewriting/basic.py\", line 1925, in process_node\n",
      "    replacements = node_rewriter.transform(fgraph, node)\n",
      "  File \"/Users/burke.227/opt/anaconda3/envs/pymc/lib/python3.10/site-packages/pytensor/graph/rewriting/basic.py\", line 1084, in transform\n",
      "    return self.fn(fgraph, node)\n",
      "  File \"/Users/burke.227/opt/anaconda3/envs/pymc/lib/python3.10/site-packages/pytensor/tensor/rewriting/basic.py\", line 1141, in constant_folding\n",
      "    thunk = node.op.make_thunk(node, storage_map, compute_map, no_recycling=[])\n",
      "  File \"/Users/burke.227/opt/anaconda3/envs/pymc/lib/python3.10/site-packages/pytensor/link/c/op.py\", line 131, in make_thunk\n",
      "    return self.make_c_thunk(node, storage_map, compute_map, no_recycling)\n",
      "  File \"/Users/burke.227/opt/anaconda3/envs/pymc/lib/python3.10/site-packages/pytensor/link/c/op.py\", line 96, in make_c_thunk\n",
      "    outputs = cl.make_thunk(\n",
      "  File \"/Users/burke.227/opt/anaconda3/envs/pymc/lib/python3.10/site-packages/pytensor/link/c/basic.py\", line 1202, in make_thunk\n",
      "    cthunk, module, in_storage, out_storage, error_storage = self.__compile__(\n",
      "  File \"/Users/burke.227/opt/anaconda3/envs/pymc/lib/python3.10/site-packages/pytensor/link/c/basic.py\", line 1122, in __compile__\n",
      "    thunk, module = self.cthunk_factory(\n",
      "  File \"/Users/burke.227/opt/anaconda3/envs/pymc/lib/python3.10/site-packages/pytensor/link/c/basic.py\", line 1647, in cthunk_factory\n",
      "    module = cache.module_from_key(key=key, lnk=self)\n",
      "  File \"/Users/burke.227/opt/anaconda3/envs/pymc/lib/python3.10/site-packages/pytensor/link/c/cmodule.py\", line 1231, in module_from_key\n",
      "    module = lnk.compile_cmodule(location)\n",
      "  File \"/Users/burke.227/opt/anaconda3/envs/pymc/lib/python3.10/site-packages/pytensor/link/c/basic.py\", line 1546, in compile_cmodule\n",
      "    module = c_compiler.compile_str(\n",
      "  File \"/Users/burke.227/opt/anaconda3/envs/pymc/lib/python3.10/site-packages/pytensor/link/c/cmodule.py\", line 2641, in compile_str\n",
      "    raise CompileError(\n",
      "pytensor.link.c.exceptions.CompileError: Compilation failed (return status=1):\n",
      "/Users/burke.227/opt/anaconda3/envs/pymc/bin/clang++ -dynamiclib -g -O3 -fno-math-errno -Wno-unused-label -Wno-unused-variable -Wno-write-strings -Wno-c++11-narrowing -fno-exceptions -fno-unwind-tables -fno-asynchronous-unwind-tables -DNPY_NO_DEPRECATED_API=NPY_1_7_API_VERSION -m64 -fPIC -undefined dynamic_lookup -I/Users/burke.227/opt/anaconda3/envs/pymc/lib/python3.10/site-packages/numpy/core/include -I/Users/burke.227/opt/anaconda3/envs/pymc/include/python3.10 -I/Users/burke.227/opt/anaconda3/envs/pymc/lib/python3.10/site-packages/pytensor/link/c/c_code -L/Users/burke.227/opt/anaconda3/envs/pymc/lib -fvisibility=hidden -o /Users/burke.227/.pytensor/compiledir_macOS-10.16-x86_64-i386-64bit-i386-3.10.9-64/tmps8nq1q2e/maf7dfc2b98019ae231490759913de9c7eae2cf26062201cb60a34079dffa7f98.so /Users/burke.227/.pytensor/compiledir_macOS-10.16-x86_64-i386-64bit-i386-3.10.9-64/tmps8nq1q2e/mod.cpp\n",
      "In file included from /Users/burke.227/.pytensor/compiledir_macOS-10.16-x86_64-i386-64bit-i386-3.10.9-64/tmps8nq1q2e/mod.cpp:1:\n",
      "In file included from /Users/burke.227/opt/anaconda3/envs/pymc/include/python3.10/Python.h:25:\n",
      "/Users/burke.227/opt/anaconda3/envs/pymc/bin/../include/c++/v1/stdio.h:107:15: fatal error: 'stdio.h' file not found\n",
      "#include_next <stdio.h>\n",
      "              ^~~~~~~~~\n",
      "1 error generated.\n",
      "\n",
      "\n"
     ]
    },
    {
     "name": "stdout",
     "output_type": "stream",
     "text": [
      "\n",
      "You can find the C code in this temporary file: /var/folders/wd/wlg9qv65701fzmgdkdfy5vtm0000gr/T/pytensor_compilation_error_qn8h75lm\n"
     ]
    },
    {
     "name": "stderr",
     "output_type": "stream",
     "text": [
      "ERROR (pytensor.graph.rewriting.basic): Rewrite failure due to: constant_folding\n",
      "ERROR (pytensor.graph.rewriting.basic): node: Elemwise{Cast{float64}}(TensorConstant{30})\n",
      "ERROR (pytensor.graph.rewriting.basic): TRACEBACK:\n",
      "ERROR (pytensor.graph.rewriting.basic): Traceback (most recent call last):\n",
      "  File \"/Users/burke.227/opt/anaconda3/envs/pymc/lib/python3.10/site-packages/pytensor/graph/rewriting/basic.py\", line 1925, in process_node\n",
      "    replacements = node_rewriter.transform(fgraph, node)\n",
      "  File \"/Users/burke.227/opt/anaconda3/envs/pymc/lib/python3.10/site-packages/pytensor/graph/rewriting/basic.py\", line 1084, in transform\n",
      "    return self.fn(fgraph, node)\n",
      "  File \"/Users/burke.227/opt/anaconda3/envs/pymc/lib/python3.10/site-packages/pytensor/tensor/rewriting/basic.py\", line 1141, in constant_folding\n",
      "    thunk = node.op.make_thunk(node, storage_map, compute_map, no_recycling=[])\n",
      "  File \"/Users/burke.227/opt/anaconda3/envs/pymc/lib/python3.10/site-packages/pytensor/link/c/op.py\", line 131, in make_thunk\n",
      "    return self.make_c_thunk(node, storage_map, compute_map, no_recycling)\n",
      "  File \"/Users/burke.227/opt/anaconda3/envs/pymc/lib/python3.10/site-packages/pytensor/link/c/op.py\", line 96, in make_c_thunk\n",
      "    outputs = cl.make_thunk(\n",
      "  File \"/Users/burke.227/opt/anaconda3/envs/pymc/lib/python3.10/site-packages/pytensor/link/c/basic.py\", line 1202, in make_thunk\n",
      "    cthunk, module, in_storage, out_storage, error_storage = self.__compile__(\n",
      "  File \"/Users/burke.227/opt/anaconda3/envs/pymc/lib/python3.10/site-packages/pytensor/link/c/basic.py\", line 1122, in __compile__\n",
      "    thunk, module = self.cthunk_factory(\n",
      "  File \"/Users/burke.227/opt/anaconda3/envs/pymc/lib/python3.10/site-packages/pytensor/link/c/basic.py\", line 1647, in cthunk_factory\n",
      "    module = cache.module_from_key(key=key, lnk=self)\n",
      "  File \"/Users/burke.227/opt/anaconda3/envs/pymc/lib/python3.10/site-packages/pytensor/link/c/cmodule.py\", line 1231, in module_from_key\n",
      "    module = lnk.compile_cmodule(location)\n",
      "  File \"/Users/burke.227/opt/anaconda3/envs/pymc/lib/python3.10/site-packages/pytensor/link/c/basic.py\", line 1546, in compile_cmodule\n",
      "    module = c_compiler.compile_str(\n",
      "  File \"/Users/burke.227/opt/anaconda3/envs/pymc/lib/python3.10/site-packages/pytensor/link/c/cmodule.py\", line 2641, in compile_str\n",
      "    raise CompileError(\n",
      "pytensor.link.c.exceptions.CompileError: Compilation failed (return status=1):\n",
      "/Users/burke.227/opt/anaconda3/envs/pymc/bin/clang++ -dynamiclib -g -O3 -fno-math-errno -Wno-unused-label -Wno-unused-variable -Wno-write-strings -Wno-c++11-narrowing -fno-exceptions -fno-unwind-tables -fno-asynchronous-unwind-tables -DNPY_NO_DEPRECATED_API=NPY_1_7_API_VERSION -m64 -fPIC -undefined dynamic_lookup -I/Users/burke.227/opt/anaconda3/envs/pymc/lib/python3.10/site-packages/numpy/core/include -I/Users/burke.227/opt/anaconda3/envs/pymc/include/python3.10 -I/Users/burke.227/opt/anaconda3/envs/pymc/lib/python3.10/site-packages/pytensor/link/c/c_code -L/Users/burke.227/opt/anaconda3/envs/pymc/lib -fvisibility=hidden -o /Users/burke.227/.pytensor/compiledir_macOS-10.16-x86_64-i386-64bit-i386-3.10.9-64/tmppurgn1ln/maf7dfc2b98019ae231490759913de9c7eae2cf26062201cb60a34079dffa7f98.so /Users/burke.227/.pytensor/compiledir_macOS-10.16-x86_64-i386-64bit-i386-3.10.9-64/tmppurgn1ln/mod.cpp\n",
      "In file included from /Users/burke.227/.pytensor/compiledir_macOS-10.16-x86_64-i386-64bit-i386-3.10.9-64/tmppurgn1ln/mod.cpp:1:\n",
      "In file included from /Users/burke.227/opt/anaconda3/envs/pymc/include/python3.10/Python.h:25:\n",
      "/Users/burke.227/opt/anaconda3/envs/pymc/bin/../include/c++/v1/stdio.h:107:15: fatal error: 'stdio.h' file not found\n",
      "#include_next <stdio.h>\n",
      "              ^~~~~~~~~\n",
      "1 error generated.\n",
      "\n",
      "\n"
     ]
    },
    {
     "name": "stdout",
     "output_type": "stream",
     "text": [
      "\n",
      "You can find the C code in this temporary file: /var/folders/wd/wlg9qv65701fzmgdkdfy5vtm0000gr/T/pytensor_compilation_error_zu5fzvwq\n"
     ]
    },
    {
     "name": "stderr",
     "output_type": "stream",
     "text": [
      "ERROR (pytensor.graph.rewriting.basic): Rewrite failure due to: constant_folding\n",
      "ERROR (pytensor.graph.rewriting.basic): node: Elemwise{Cast{float64}}(TensorConstant{30})\n",
      "ERROR (pytensor.graph.rewriting.basic): TRACEBACK:\n",
      "ERROR (pytensor.graph.rewriting.basic): Traceback (most recent call last):\n",
      "  File \"/Users/burke.227/opt/anaconda3/envs/pymc/lib/python3.10/site-packages/pytensor/graph/rewriting/basic.py\", line 1925, in process_node\n",
      "    replacements = node_rewriter.transform(fgraph, node)\n",
      "  File \"/Users/burke.227/opt/anaconda3/envs/pymc/lib/python3.10/site-packages/pytensor/graph/rewriting/basic.py\", line 1084, in transform\n",
      "    return self.fn(fgraph, node)\n",
      "  File \"/Users/burke.227/opt/anaconda3/envs/pymc/lib/python3.10/site-packages/pytensor/tensor/rewriting/basic.py\", line 1141, in constant_folding\n",
      "    thunk = node.op.make_thunk(node, storage_map, compute_map, no_recycling=[])\n",
      "  File \"/Users/burke.227/opt/anaconda3/envs/pymc/lib/python3.10/site-packages/pytensor/link/c/op.py\", line 131, in make_thunk\n",
      "    return self.make_c_thunk(node, storage_map, compute_map, no_recycling)\n",
      "  File \"/Users/burke.227/opt/anaconda3/envs/pymc/lib/python3.10/site-packages/pytensor/link/c/op.py\", line 96, in make_c_thunk\n",
      "    outputs = cl.make_thunk(\n",
      "  File \"/Users/burke.227/opt/anaconda3/envs/pymc/lib/python3.10/site-packages/pytensor/link/c/basic.py\", line 1202, in make_thunk\n",
      "    cthunk, module, in_storage, out_storage, error_storage = self.__compile__(\n",
      "  File \"/Users/burke.227/opt/anaconda3/envs/pymc/lib/python3.10/site-packages/pytensor/link/c/basic.py\", line 1122, in __compile__\n",
      "    thunk, module = self.cthunk_factory(\n",
      "  File \"/Users/burke.227/opt/anaconda3/envs/pymc/lib/python3.10/site-packages/pytensor/link/c/basic.py\", line 1647, in cthunk_factory\n",
      "    module = cache.module_from_key(key=key, lnk=self)\n",
      "  File \"/Users/burke.227/opt/anaconda3/envs/pymc/lib/python3.10/site-packages/pytensor/link/c/cmodule.py\", line 1231, in module_from_key\n",
      "    module = lnk.compile_cmodule(location)\n",
      "  File \"/Users/burke.227/opt/anaconda3/envs/pymc/lib/python3.10/site-packages/pytensor/link/c/basic.py\", line 1546, in compile_cmodule\n",
      "    module = c_compiler.compile_str(\n",
      "  File \"/Users/burke.227/opt/anaconda3/envs/pymc/lib/python3.10/site-packages/pytensor/link/c/cmodule.py\", line 2641, in compile_str\n",
      "    raise CompileError(\n",
      "pytensor.link.c.exceptions.CompileError: Compilation failed (return status=1):\n",
      "/Users/burke.227/opt/anaconda3/envs/pymc/bin/clang++ -dynamiclib -g -O3 -fno-math-errno -Wno-unused-label -Wno-unused-variable -Wno-write-strings -Wno-c++11-narrowing -fno-exceptions -fno-unwind-tables -fno-asynchronous-unwind-tables -DNPY_NO_DEPRECATED_API=NPY_1_7_API_VERSION -m64 -fPIC -undefined dynamic_lookup -I/Users/burke.227/opt/anaconda3/envs/pymc/lib/python3.10/site-packages/numpy/core/include -I/Users/burke.227/opt/anaconda3/envs/pymc/include/python3.10 -I/Users/burke.227/opt/anaconda3/envs/pymc/lib/python3.10/site-packages/pytensor/link/c/c_code -L/Users/burke.227/opt/anaconda3/envs/pymc/lib -fvisibility=hidden -o /Users/burke.227/.pytensor/compiledir_macOS-10.16-x86_64-i386-64bit-i386-3.10.9-64/tmp0qx8t_44/maf7dfc2b98019ae231490759913de9c7eae2cf26062201cb60a34079dffa7f98.so /Users/burke.227/.pytensor/compiledir_macOS-10.16-x86_64-i386-64bit-i386-3.10.9-64/tmp0qx8t_44/mod.cpp\n",
      "In file included from /Users/burke.227/.pytensor/compiledir_macOS-10.16-x86_64-i386-64bit-i386-3.10.9-64/tmp0qx8t_44/mod.cpp:1:\n",
      "In file included from /Users/burke.227/opt/anaconda3/envs/pymc/include/python3.10/Python.h:25:\n",
      "/Users/burke.227/opt/anaconda3/envs/pymc/bin/../include/c++/v1/stdio.h:107:15: fatal error: 'stdio.h' file not found\n",
      "#include_next <stdio.h>\n",
      "              ^~~~~~~~~\n",
      "1 error generated.\n",
      "\n",
      "\n"
     ]
    },
    {
     "name": "stdout",
     "output_type": "stream",
     "text": [
      "\n",
      "You can find the C code in this temporary file: /var/folders/wd/wlg9qv65701fzmgdkdfy5vtm0000gr/T/pytensor_compilation_error_4htrlg0g\n"
     ]
    },
    {
     "name": "stderr",
     "output_type": "stream",
     "text": [
      "ERROR (pytensor.graph.rewriting.basic): Rewrite failure due to: constant_folding\n",
      "ERROR (pytensor.graph.rewriting.basic): node: Elemwise{Cast{float64}}(TensorConstant{30})\n",
      "ERROR (pytensor.graph.rewriting.basic): TRACEBACK:\n",
      "ERROR (pytensor.graph.rewriting.basic): Traceback (most recent call last):\n",
      "  File \"/Users/burke.227/opt/anaconda3/envs/pymc/lib/python3.10/site-packages/pytensor/graph/rewriting/basic.py\", line 1925, in process_node\n",
      "    replacements = node_rewriter.transform(fgraph, node)\n",
      "  File \"/Users/burke.227/opt/anaconda3/envs/pymc/lib/python3.10/site-packages/pytensor/graph/rewriting/basic.py\", line 1084, in transform\n",
      "    return self.fn(fgraph, node)\n",
      "  File \"/Users/burke.227/opt/anaconda3/envs/pymc/lib/python3.10/site-packages/pytensor/tensor/rewriting/basic.py\", line 1141, in constant_folding\n",
      "    thunk = node.op.make_thunk(node, storage_map, compute_map, no_recycling=[])\n",
      "  File \"/Users/burke.227/opt/anaconda3/envs/pymc/lib/python3.10/site-packages/pytensor/link/c/op.py\", line 131, in make_thunk\n",
      "    return self.make_c_thunk(node, storage_map, compute_map, no_recycling)\n",
      "  File \"/Users/burke.227/opt/anaconda3/envs/pymc/lib/python3.10/site-packages/pytensor/link/c/op.py\", line 96, in make_c_thunk\n",
      "    outputs = cl.make_thunk(\n",
      "  File \"/Users/burke.227/opt/anaconda3/envs/pymc/lib/python3.10/site-packages/pytensor/link/c/basic.py\", line 1202, in make_thunk\n",
      "    cthunk, module, in_storage, out_storage, error_storage = self.__compile__(\n",
      "  File \"/Users/burke.227/opt/anaconda3/envs/pymc/lib/python3.10/site-packages/pytensor/link/c/basic.py\", line 1122, in __compile__\n",
      "    thunk, module = self.cthunk_factory(\n",
      "  File \"/Users/burke.227/opt/anaconda3/envs/pymc/lib/python3.10/site-packages/pytensor/link/c/basic.py\", line 1647, in cthunk_factory\n",
      "    module = cache.module_from_key(key=key, lnk=self)\n",
      "  File \"/Users/burke.227/opt/anaconda3/envs/pymc/lib/python3.10/site-packages/pytensor/link/c/cmodule.py\", line 1231, in module_from_key\n",
      "    module = lnk.compile_cmodule(location)\n",
      "  File \"/Users/burke.227/opt/anaconda3/envs/pymc/lib/python3.10/site-packages/pytensor/link/c/basic.py\", line 1546, in compile_cmodule\n",
      "    module = c_compiler.compile_str(\n",
      "  File \"/Users/burke.227/opt/anaconda3/envs/pymc/lib/python3.10/site-packages/pytensor/link/c/cmodule.py\", line 2641, in compile_str\n",
      "    raise CompileError(\n",
      "pytensor.link.c.exceptions.CompileError: Compilation failed (return status=1):\n",
      "/Users/burke.227/opt/anaconda3/envs/pymc/bin/clang++ -dynamiclib -g -O3 -fno-math-errno -Wno-unused-label -Wno-unused-variable -Wno-write-strings -Wno-c++11-narrowing -fno-exceptions -fno-unwind-tables -fno-asynchronous-unwind-tables -DNPY_NO_DEPRECATED_API=NPY_1_7_API_VERSION -m64 -fPIC -undefined dynamic_lookup -I/Users/burke.227/opt/anaconda3/envs/pymc/lib/python3.10/site-packages/numpy/core/include -I/Users/burke.227/opt/anaconda3/envs/pymc/include/python3.10 -I/Users/burke.227/opt/anaconda3/envs/pymc/lib/python3.10/site-packages/pytensor/link/c/c_code -L/Users/burke.227/opt/anaconda3/envs/pymc/lib -fvisibility=hidden -o /Users/burke.227/.pytensor/compiledir_macOS-10.16-x86_64-i386-64bit-i386-3.10.9-64/tmpimtevsdv/maf7dfc2b98019ae231490759913de9c7eae2cf26062201cb60a34079dffa7f98.so /Users/burke.227/.pytensor/compiledir_macOS-10.16-x86_64-i386-64bit-i386-3.10.9-64/tmpimtevsdv/mod.cpp\n",
      "In file included from /Users/burke.227/.pytensor/compiledir_macOS-10.16-x86_64-i386-64bit-i386-3.10.9-64/tmpimtevsdv/mod.cpp:1:\n",
      "In file included from /Users/burke.227/opt/anaconda3/envs/pymc/include/python3.10/Python.h:25:\n",
      "/Users/burke.227/opt/anaconda3/envs/pymc/bin/../include/c++/v1/stdio.h:107:15: fatal error: 'stdio.h' file not found\n",
      "#include_next <stdio.h>\n",
      "              ^~~~~~~~~\n",
      "1 error generated.\n",
      "\n",
      "\n"
     ]
    },
    {
     "name": "stdout",
     "output_type": "stream",
     "text": [
      "\n",
      "You can find the C code in this temporary file: /var/folders/wd/wlg9qv65701fzmgdkdfy5vtm0000gr/T/pytensor_compilation_error_w_j27cg1\n"
     ]
    },
    {
     "name": "stderr",
     "output_type": "stream",
     "text": [
      "ERROR (pytensor.graph.rewriting.basic): Rewrite failure due to: constant_folding\n",
      "ERROR (pytensor.graph.rewriting.basic): node: Elemwise{Cast{float64}}(TensorConstant{30})\n",
      "ERROR (pytensor.graph.rewriting.basic): TRACEBACK:\n",
      "ERROR (pytensor.graph.rewriting.basic): Traceback (most recent call last):\n",
      "  File \"/Users/burke.227/opt/anaconda3/envs/pymc/lib/python3.10/site-packages/pytensor/graph/rewriting/basic.py\", line 1925, in process_node\n",
      "    replacements = node_rewriter.transform(fgraph, node)\n",
      "  File \"/Users/burke.227/opt/anaconda3/envs/pymc/lib/python3.10/site-packages/pytensor/graph/rewriting/basic.py\", line 1084, in transform\n",
      "    return self.fn(fgraph, node)\n",
      "  File \"/Users/burke.227/opt/anaconda3/envs/pymc/lib/python3.10/site-packages/pytensor/tensor/rewriting/basic.py\", line 1141, in constant_folding\n",
      "    thunk = node.op.make_thunk(node, storage_map, compute_map, no_recycling=[])\n",
      "  File \"/Users/burke.227/opt/anaconda3/envs/pymc/lib/python3.10/site-packages/pytensor/link/c/op.py\", line 131, in make_thunk\n",
      "    return self.make_c_thunk(node, storage_map, compute_map, no_recycling)\n",
      "  File \"/Users/burke.227/opt/anaconda3/envs/pymc/lib/python3.10/site-packages/pytensor/link/c/op.py\", line 96, in make_c_thunk\n",
      "    outputs = cl.make_thunk(\n",
      "  File \"/Users/burke.227/opt/anaconda3/envs/pymc/lib/python3.10/site-packages/pytensor/link/c/basic.py\", line 1202, in make_thunk\n",
      "    cthunk, module, in_storage, out_storage, error_storage = self.__compile__(\n",
      "  File \"/Users/burke.227/opt/anaconda3/envs/pymc/lib/python3.10/site-packages/pytensor/link/c/basic.py\", line 1122, in __compile__\n",
      "    thunk, module = self.cthunk_factory(\n",
      "  File \"/Users/burke.227/opt/anaconda3/envs/pymc/lib/python3.10/site-packages/pytensor/link/c/basic.py\", line 1647, in cthunk_factory\n",
      "    module = cache.module_from_key(key=key, lnk=self)\n",
      "  File \"/Users/burke.227/opt/anaconda3/envs/pymc/lib/python3.10/site-packages/pytensor/link/c/cmodule.py\", line 1231, in module_from_key\n",
      "    module = lnk.compile_cmodule(location)\n",
      "  File \"/Users/burke.227/opt/anaconda3/envs/pymc/lib/python3.10/site-packages/pytensor/link/c/basic.py\", line 1546, in compile_cmodule\n",
      "    module = c_compiler.compile_str(\n",
      "  File \"/Users/burke.227/opt/anaconda3/envs/pymc/lib/python3.10/site-packages/pytensor/link/c/cmodule.py\", line 2641, in compile_str\n",
      "    raise CompileError(\n",
      "pytensor.link.c.exceptions.CompileError: Compilation failed (return status=1):\n",
      "/Users/burke.227/opt/anaconda3/envs/pymc/bin/clang++ -dynamiclib -g -O3 -fno-math-errno -Wno-unused-label -Wno-unused-variable -Wno-write-strings -Wno-c++11-narrowing -fno-exceptions -fno-unwind-tables -fno-asynchronous-unwind-tables -DNPY_NO_DEPRECATED_API=NPY_1_7_API_VERSION -m64 -fPIC -undefined dynamic_lookup -I/Users/burke.227/opt/anaconda3/envs/pymc/lib/python3.10/site-packages/numpy/core/include -I/Users/burke.227/opt/anaconda3/envs/pymc/include/python3.10 -I/Users/burke.227/opt/anaconda3/envs/pymc/lib/python3.10/site-packages/pytensor/link/c/c_code -L/Users/burke.227/opt/anaconda3/envs/pymc/lib -fvisibility=hidden -o /Users/burke.227/.pytensor/compiledir_macOS-10.16-x86_64-i386-64bit-i386-3.10.9-64/tmpj8f5qv83/maf7dfc2b98019ae231490759913de9c7eae2cf26062201cb60a34079dffa7f98.so /Users/burke.227/.pytensor/compiledir_macOS-10.16-x86_64-i386-64bit-i386-3.10.9-64/tmpj8f5qv83/mod.cpp\n",
      "In file included from /Users/burke.227/.pytensor/compiledir_macOS-10.16-x86_64-i386-64bit-i386-3.10.9-64/tmpj8f5qv83/mod.cpp:1:\n",
      "In file included from /Users/burke.227/opt/anaconda3/envs/pymc/include/python3.10/Python.h:25:\n",
      "/Users/burke.227/opt/anaconda3/envs/pymc/bin/../include/c++/v1/stdio.h:107:15: fatal error: 'stdio.h' file not found\n",
      "#include_next <stdio.h>\n",
      "              ^~~~~~~~~\n",
      "1 error generated.\n",
      "\n",
      "\n"
     ]
    },
    {
     "name": "stdout",
     "output_type": "stream",
     "text": [
      "\n",
      "You can find the C code in this temporary file: /var/folders/wd/wlg9qv65701fzmgdkdfy5vtm0000gr/T/pytensor_compilation_error_wkv7n_ou\n"
     ]
    },
    {
     "name": "stderr",
     "output_type": "stream",
     "text": [
      "ERROR (pytensor.graph.rewriting.basic): Rewrite failure due to: constant_folding\n",
      "ERROR (pytensor.graph.rewriting.basic): node: Elemwise{Cast{float64}}(TensorConstant{30})\n",
      "ERROR (pytensor.graph.rewriting.basic): TRACEBACK:\n",
      "ERROR (pytensor.graph.rewriting.basic): Traceback (most recent call last):\n",
      "  File \"/Users/burke.227/opt/anaconda3/envs/pymc/lib/python3.10/site-packages/pytensor/graph/rewriting/basic.py\", line 1925, in process_node\n",
      "    replacements = node_rewriter.transform(fgraph, node)\n",
      "  File \"/Users/burke.227/opt/anaconda3/envs/pymc/lib/python3.10/site-packages/pytensor/graph/rewriting/basic.py\", line 1084, in transform\n",
      "    return self.fn(fgraph, node)\n",
      "  File \"/Users/burke.227/opt/anaconda3/envs/pymc/lib/python3.10/site-packages/pytensor/tensor/rewriting/basic.py\", line 1141, in constant_folding\n",
      "    thunk = node.op.make_thunk(node, storage_map, compute_map, no_recycling=[])\n",
      "  File \"/Users/burke.227/opt/anaconda3/envs/pymc/lib/python3.10/site-packages/pytensor/link/c/op.py\", line 131, in make_thunk\n",
      "    return self.make_c_thunk(node, storage_map, compute_map, no_recycling)\n",
      "  File \"/Users/burke.227/opt/anaconda3/envs/pymc/lib/python3.10/site-packages/pytensor/link/c/op.py\", line 96, in make_c_thunk\n",
      "    outputs = cl.make_thunk(\n",
      "  File \"/Users/burke.227/opt/anaconda3/envs/pymc/lib/python3.10/site-packages/pytensor/link/c/basic.py\", line 1202, in make_thunk\n",
      "    cthunk, module, in_storage, out_storage, error_storage = self.__compile__(\n",
      "  File \"/Users/burke.227/opt/anaconda3/envs/pymc/lib/python3.10/site-packages/pytensor/link/c/basic.py\", line 1122, in __compile__\n",
      "    thunk, module = self.cthunk_factory(\n",
      "  File \"/Users/burke.227/opt/anaconda3/envs/pymc/lib/python3.10/site-packages/pytensor/link/c/basic.py\", line 1647, in cthunk_factory\n",
      "    module = cache.module_from_key(key=key, lnk=self)\n",
      "  File \"/Users/burke.227/opt/anaconda3/envs/pymc/lib/python3.10/site-packages/pytensor/link/c/cmodule.py\", line 1231, in module_from_key\n",
      "    module = lnk.compile_cmodule(location)\n",
      "  File \"/Users/burke.227/opt/anaconda3/envs/pymc/lib/python3.10/site-packages/pytensor/link/c/basic.py\", line 1546, in compile_cmodule\n",
      "    module = c_compiler.compile_str(\n",
      "  File \"/Users/burke.227/opt/anaconda3/envs/pymc/lib/python3.10/site-packages/pytensor/link/c/cmodule.py\", line 2641, in compile_str\n",
      "    raise CompileError(\n",
      "pytensor.link.c.exceptions.CompileError: Compilation failed (return status=1):\n",
      "/Users/burke.227/opt/anaconda3/envs/pymc/bin/clang++ -dynamiclib -g -O3 -fno-math-errno -Wno-unused-label -Wno-unused-variable -Wno-write-strings -Wno-c++11-narrowing -fno-exceptions -fno-unwind-tables -fno-asynchronous-unwind-tables -DNPY_NO_DEPRECATED_API=NPY_1_7_API_VERSION -m64 -fPIC -undefined dynamic_lookup -I/Users/burke.227/opt/anaconda3/envs/pymc/lib/python3.10/site-packages/numpy/core/include -I/Users/burke.227/opt/anaconda3/envs/pymc/include/python3.10 -I/Users/burke.227/opt/anaconda3/envs/pymc/lib/python3.10/site-packages/pytensor/link/c/c_code -L/Users/burke.227/opt/anaconda3/envs/pymc/lib -fvisibility=hidden -o /Users/burke.227/.pytensor/compiledir_macOS-10.16-x86_64-i386-64bit-i386-3.10.9-64/tmpja4bbmr2/maf7dfc2b98019ae231490759913de9c7eae2cf26062201cb60a34079dffa7f98.so /Users/burke.227/.pytensor/compiledir_macOS-10.16-x86_64-i386-64bit-i386-3.10.9-64/tmpja4bbmr2/mod.cpp\n",
      "In file included from /Users/burke.227/.pytensor/compiledir_macOS-10.16-x86_64-i386-64bit-i386-3.10.9-64/tmpja4bbmr2/mod.cpp:1:\n",
      "In file included from /Users/burke.227/opt/anaconda3/envs/pymc/include/python3.10/Python.h:25:\n",
      "/Users/burke.227/opt/anaconda3/envs/pymc/bin/../include/c++/v1/stdio.h:107:15: fatal error: 'stdio.h' file not found\n",
      "#include_next <stdio.h>\n",
      "              ^~~~~~~~~\n",
      "1 error generated.\n",
      "\n",
      "\n"
     ]
    },
    {
     "name": "stdout",
     "output_type": "stream",
     "text": [
      "\n",
      "You can find the C code in this temporary file: /var/folders/wd/wlg9qv65701fzmgdkdfy5vtm0000gr/T/pytensor_compilation_error_m5_u5l9x\n"
     ]
    },
    {
     "name": "stderr",
     "output_type": "stream",
     "text": [
      "ERROR (pytensor.graph.rewriting.basic): Rewrite failure due to: constant_folding\n",
      "ERROR (pytensor.graph.rewriting.basic): node: Elemwise{Cast{float64}}(TensorConstant{30})\n",
      "ERROR (pytensor.graph.rewriting.basic): TRACEBACK:\n",
      "ERROR (pytensor.graph.rewriting.basic): Traceback (most recent call last):\n",
      "  File \"/Users/burke.227/opt/anaconda3/envs/pymc/lib/python3.10/site-packages/pytensor/graph/rewriting/basic.py\", line 1925, in process_node\n",
      "    replacements = node_rewriter.transform(fgraph, node)\n",
      "  File \"/Users/burke.227/opt/anaconda3/envs/pymc/lib/python3.10/site-packages/pytensor/graph/rewriting/basic.py\", line 1084, in transform\n",
      "    return self.fn(fgraph, node)\n",
      "  File \"/Users/burke.227/opt/anaconda3/envs/pymc/lib/python3.10/site-packages/pytensor/tensor/rewriting/basic.py\", line 1141, in constant_folding\n",
      "    thunk = node.op.make_thunk(node, storage_map, compute_map, no_recycling=[])\n",
      "  File \"/Users/burke.227/opt/anaconda3/envs/pymc/lib/python3.10/site-packages/pytensor/link/c/op.py\", line 131, in make_thunk\n",
      "    return self.make_c_thunk(node, storage_map, compute_map, no_recycling)\n",
      "  File \"/Users/burke.227/opt/anaconda3/envs/pymc/lib/python3.10/site-packages/pytensor/link/c/op.py\", line 96, in make_c_thunk\n",
      "    outputs = cl.make_thunk(\n",
      "  File \"/Users/burke.227/opt/anaconda3/envs/pymc/lib/python3.10/site-packages/pytensor/link/c/basic.py\", line 1202, in make_thunk\n",
      "    cthunk, module, in_storage, out_storage, error_storage = self.__compile__(\n",
      "  File \"/Users/burke.227/opt/anaconda3/envs/pymc/lib/python3.10/site-packages/pytensor/link/c/basic.py\", line 1122, in __compile__\n",
      "    thunk, module = self.cthunk_factory(\n",
      "  File \"/Users/burke.227/opt/anaconda3/envs/pymc/lib/python3.10/site-packages/pytensor/link/c/basic.py\", line 1647, in cthunk_factory\n",
      "    module = cache.module_from_key(key=key, lnk=self)\n",
      "  File \"/Users/burke.227/opt/anaconda3/envs/pymc/lib/python3.10/site-packages/pytensor/link/c/cmodule.py\", line 1231, in module_from_key\n",
      "    module = lnk.compile_cmodule(location)\n",
      "  File \"/Users/burke.227/opt/anaconda3/envs/pymc/lib/python3.10/site-packages/pytensor/link/c/basic.py\", line 1546, in compile_cmodule\n",
      "    module = c_compiler.compile_str(\n",
      "  File \"/Users/burke.227/opt/anaconda3/envs/pymc/lib/python3.10/site-packages/pytensor/link/c/cmodule.py\", line 2641, in compile_str\n",
      "    raise CompileError(\n",
      "pytensor.link.c.exceptions.CompileError: Compilation failed (return status=1):\n",
      "/Users/burke.227/opt/anaconda3/envs/pymc/bin/clang++ -dynamiclib -g -O3 -fno-math-errno -Wno-unused-label -Wno-unused-variable -Wno-write-strings -Wno-c++11-narrowing -fno-exceptions -fno-unwind-tables -fno-asynchronous-unwind-tables -DNPY_NO_DEPRECATED_API=NPY_1_7_API_VERSION -m64 -fPIC -undefined dynamic_lookup -I/Users/burke.227/opt/anaconda3/envs/pymc/lib/python3.10/site-packages/numpy/core/include -I/Users/burke.227/opt/anaconda3/envs/pymc/include/python3.10 -I/Users/burke.227/opt/anaconda3/envs/pymc/lib/python3.10/site-packages/pytensor/link/c/c_code -L/Users/burke.227/opt/anaconda3/envs/pymc/lib -fvisibility=hidden -o /Users/burke.227/.pytensor/compiledir_macOS-10.16-x86_64-i386-64bit-i386-3.10.9-64/tmpzigwfrf2/maf7dfc2b98019ae231490759913de9c7eae2cf26062201cb60a34079dffa7f98.so /Users/burke.227/.pytensor/compiledir_macOS-10.16-x86_64-i386-64bit-i386-3.10.9-64/tmpzigwfrf2/mod.cpp\n",
      "In file included from /Users/burke.227/.pytensor/compiledir_macOS-10.16-x86_64-i386-64bit-i386-3.10.9-64/tmpzigwfrf2/mod.cpp:1:\n",
      "In file included from /Users/burke.227/opt/anaconda3/envs/pymc/include/python3.10/Python.h:25:\n",
      "/Users/burke.227/opt/anaconda3/envs/pymc/bin/../include/c++/v1/stdio.h:107:15: fatal error: 'stdio.h' file not found\n",
      "#include_next <stdio.h>\n",
      "              ^~~~~~~~~\n",
      "1 error generated.\n",
      "\n",
      "\n"
     ]
    },
    {
     "name": "stdout",
     "output_type": "stream",
     "text": [
      "\n",
      "You can find the C code in this temporary file: /var/folders/wd/wlg9qv65701fzmgdkdfy5vtm0000gr/T/pytensor_compilation_error_apt_tk9x\n"
     ]
    },
    {
     "name": "stderr",
     "output_type": "stream",
     "text": [
      "ERROR (pytensor.graph.rewriting.basic): Rewrite failure due to: constant_folding\n",
      "ERROR (pytensor.graph.rewriting.basic): node: Elemwise{Cast{float64}}(TensorConstant{30})\n",
      "ERROR (pytensor.graph.rewriting.basic): TRACEBACK:\n",
      "ERROR (pytensor.graph.rewriting.basic): Traceback (most recent call last):\n",
      "  File \"/Users/burke.227/opt/anaconda3/envs/pymc/lib/python3.10/site-packages/pytensor/graph/rewriting/basic.py\", line 1925, in process_node\n",
      "    replacements = node_rewriter.transform(fgraph, node)\n",
      "  File \"/Users/burke.227/opt/anaconda3/envs/pymc/lib/python3.10/site-packages/pytensor/graph/rewriting/basic.py\", line 1084, in transform\n",
      "    return self.fn(fgraph, node)\n",
      "  File \"/Users/burke.227/opt/anaconda3/envs/pymc/lib/python3.10/site-packages/pytensor/tensor/rewriting/basic.py\", line 1141, in constant_folding\n",
      "    thunk = node.op.make_thunk(node, storage_map, compute_map, no_recycling=[])\n",
      "  File \"/Users/burke.227/opt/anaconda3/envs/pymc/lib/python3.10/site-packages/pytensor/link/c/op.py\", line 131, in make_thunk\n",
      "    return self.make_c_thunk(node, storage_map, compute_map, no_recycling)\n",
      "  File \"/Users/burke.227/opt/anaconda3/envs/pymc/lib/python3.10/site-packages/pytensor/link/c/op.py\", line 96, in make_c_thunk\n",
      "    outputs = cl.make_thunk(\n",
      "  File \"/Users/burke.227/opt/anaconda3/envs/pymc/lib/python3.10/site-packages/pytensor/link/c/basic.py\", line 1202, in make_thunk\n",
      "    cthunk, module, in_storage, out_storage, error_storage = self.__compile__(\n",
      "  File \"/Users/burke.227/opt/anaconda3/envs/pymc/lib/python3.10/site-packages/pytensor/link/c/basic.py\", line 1122, in __compile__\n",
      "    thunk, module = self.cthunk_factory(\n",
      "  File \"/Users/burke.227/opt/anaconda3/envs/pymc/lib/python3.10/site-packages/pytensor/link/c/basic.py\", line 1647, in cthunk_factory\n",
      "    module = cache.module_from_key(key=key, lnk=self)\n",
      "  File \"/Users/burke.227/opt/anaconda3/envs/pymc/lib/python3.10/site-packages/pytensor/link/c/cmodule.py\", line 1231, in module_from_key\n",
      "    module = lnk.compile_cmodule(location)\n",
      "  File \"/Users/burke.227/opt/anaconda3/envs/pymc/lib/python3.10/site-packages/pytensor/link/c/basic.py\", line 1546, in compile_cmodule\n",
      "    module = c_compiler.compile_str(\n",
      "  File \"/Users/burke.227/opt/anaconda3/envs/pymc/lib/python3.10/site-packages/pytensor/link/c/cmodule.py\", line 2641, in compile_str\n",
      "    raise CompileError(\n",
      "pytensor.link.c.exceptions.CompileError: Compilation failed (return status=1):\n",
      "/Users/burke.227/opt/anaconda3/envs/pymc/bin/clang++ -dynamiclib -g -O3 -fno-math-errno -Wno-unused-label -Wno-unused-variable -Wno-write-strings -Wno-c++11-narrowing -fno-exceptions -fno-unwind-tables -fno-asynchronous-unwind-tables -DNPY_NO_DEPRECATED_API=NPY_1_7_API_VERSION -m64 -fPIC -undefined dynamic_lookup -I/Users/burke.227/opt/anaconda3/envs/pymc/lib/python3.10/site-packages/numpy/core/include -I/Users/burke.227/opt/anaconda3/envs/pymc/include/python3.10 -I/Users/burke.227/opt/anaconda3/envs/pymc/lib/python3.10/site-packages/pytensor/link/c/c_code -L/Users/burke.227/opt/anaconda3/envs/pymc/lib -fvisibility=hidden -o /Users/burke.227/.pytensor/compiledir_macOS-10.16-x86_64-i386-64bit-i386-3.10.9-64/tmp_g44v_xe/maf7dfc2b98019ae231490759913de9c7eae2cf26062201cb60a34079dffa7f98.so /Users/burke.227/.pytensor/compiledir_macOS-10.16-x86_64-i386-64bit-i386-3.10.9-64/tmp_g44v_xe/mod.cpp\n",
      "In file included from /Users/burke.227/.pytensor/compiledir_macOS-10.16-x86_64-i386-64bit-i386-3.10.9-64/tmp_g44v_xe/mod.cpp:1:\n",
      "In file included from /Users/burke.227/opt/anaconda3/envs/pymc/include/python3.10/Python.h:25:\n",
      "/Users/burke.227/opt/anaconda3/envs/pymc/bin/../include/c++/v1/stdio.h:107:15: fatal error: 'stdio.h' file not found\n",
      "#include_next <stdio.h>\n",
      "              ^~~~~~~~~\n",
      "1 error generated.\n",
      "\n",
      "\n"
     ]
    },
    {
     "name": "stdout",
     "output_type": "stream",
     "text": [
      "\n",
      "You can find the C code in this temporary file: /var/folders/wd/wlg9qv65701fzmgdkdfy5vtm0000gr/T/pytensor_compilation_error_tiz3nr75\n"
     ]
    },
    {
     "name": "stderr",
     "output_type": "stream",
     "text": [
      "ERROR (pytensor.graph.rewriting.basic): Rewrite failure due to: constant_folding\n",
      "ERROR (pytensor.graph.rewriting.basic): node: Elemwise{Cast{float64}}(TensorConstant{30})\n",
      "ERROR (pytensor.graph.rewriting.basic): TRACEBACK:\n",
      "ERROR (pytensor.graph.rewriting.basic): Traceback (most recent call last):\n",
      "  File \"/Users/burke.227/opt/anaconda3/envs/pymc/lib/python3.10/site-packages/pytensor/graph/rewriting/basic.py\", line 1925, in process_node\n",
      "    replacements = node_rewriter.transform(fgraph, node)\n",
      "  File \"/Users/burke.227/opt/anaconda3/envs/pymc/lib/python3.10/site-packages/pytensor/graph/rewriting/basic.py\", line 1084, in transform\n",
      "    return self.fn(fgraph, node)\n",
      "  File \"/Users/burke.227/opt/anaconda3/envs/pymc/lib/python3.10/site-packages/pytensor/tensor/rewriting/basic.py\", line 1141, in constant_folding\n",
      "    thunk = node.op.make_thunk(node, storage_map, compute_map, no_recycling=[])\n",
      "  File \"/Users/burke.227/opt/anaconda3/envs/pymc/lib/python3.10/site-packages/pytensor/link/c/op.py\", line 131, in make_thunk\n",
      "    return self.make_c_thunk(node, storage_map, compute_map, no_recycling)\n",
      "  File \"/Users/burke.227/opt/anaconda3/envs/pymc/lib/python3.10/site-packages/pytensor/link/c/op.py\", line 96, in make_c_thunk\n",
      "    outputs = cl.make_thunk(\n",
      "  File \"/Users/burke.227/opt/anaconda3/envs/pymc/lib/python3.10/site-packages/pytensor/link/c/basic.py\", line 1202, in make_thunk\n",
      "    cthunk, module, in_storage, out_storage, error_storage = self.__compile__(\n",
      "  File \"/Users/burke.227/opt/anaconda3/envs/pymc/lib/python3.10/site-packages/pytensor/link/c/basic.py\", line 1122, in __compile__\n",
      "    thunk, module = self.cthunk_factory(\n",
      "  File \"/Users/burke.227/opt/anaconda3/envs/pymc/lib/python3.10/site-packages/pytensor/link/c/basic.py\", line 1647, in cthunk_factory\n",
      "    module = cache.module_from_key(key=key, lnk=self)\n",
      "  File \"/Users/burke.227/opt/anaconda3/envs/pymc/lib/python3.10/site-packages/pytensor/link/c/cmodule.py\", line 1231, in module_from_key\n",
      "    module = lnk.compile_cmodule(location)\n",
      "  File \"/Users/burke.227/opt/anaconda3/envs/pymc/lib/python3.10/site-packages/pytensor/link/c/basic.py\", line 1546, in compile_cmodule\n",
      "    module = c_compiler.compile_str(\n",
      "  File \"/Users/burke.227/opt/anaconda3/envs/pymc/lib/python3.10/site-packages/pytensor/link/c/cmodule.py\", line 2641, in compile_str\n",
      "    raise CompileError(\n",
      "pytensor.link.c.exceptions.CompileError: Compilation failed (return status=1):\n",
      "/Users/burke.227/opt/anaconda3/envs/pymc/bin/clang++ -dynamiclib -g -O3 -fno-math-errno -Wno-unused-label -Wno-unused-variable -Wno-write-strings -Wno-c++11-narrowing -fno-exceptions -fno-unwind-tables -fno-asynchronous-unwind-tables -DNPY_NO_DEPRECATED_API=NPY_1_7_API_VERSION -m64 -fPIC -undefined dynamic_lookup -I/Users/burke.227/opt/anaconda3/envs/pymc/lib/python3.10/site-packages/numpy/core/include -I/Users/burke.227/opt/anaconda3/envs/pymc/include/python3.10 -I/Users/burke.227/opt/anaconda3/envs/pymc/lib/python3.10/site-packages/pytensor/link/c/c_code -L/Users/burke.227/opt/anaconda3/envs/pymc/lib -fvisibility=hidden -o /Users/burke.227/.pytensor/compiledir_macOS-10.16-x86_64-i386-64bit-i386-3.10.9-64/tmp8nwumab5/maf7dfc2b98019ae231490759913de9c7eae2cf26062201cb60a34079dffa7f98.so /Users/burke.227/.pytensor/compiledir_macOS-10.16-x86_64-i386-64bit-i386-3.10.9-64/tmp8nwumab5/mod.cpp\n",
      "In file included from /Users/burke.227/.pytensor/compiledir_macOS-10.16-x86_64-i386-64bit-i386-3.10.9-64/tmp8nwumab5/mod.cpp:1:\n",
      "In file included from /Users/burke.227/opt/anaconda3/envs/pymc/include/python3.10/Python.h:25:\n",
      "/Users/burke.227/opt/anaconda3/envs/pymc/bin/../include/c++/v1/stdio.h:107:15: fatal error: 'stdio.h' file not found\n",
      "#include_next <stdio.h>\n",
      "              ^~~~~~~~~\n",
      "1 error generated.\n",
      "\n",
      "\n"
     ]
    },
    {
     "name": "stdout",
     "output_type": "stream",
     "text": [
      "\n",
      "You can find the C code in this temporary file: /var/folders/wd/wlg9qv65701fzmgdkdfy5vtm0000gr/T/pytensor_compilation_error_7042xki_\n",
      "\n",
      "You can find the C code in this temporary file: /var/folders/wd/wlg9qv65701fzmgdkdfy5vtm0000gr/T/pytensor_compilation_error_0gph1lse\n"
     ]
    },
    {
     "ename": "CompileError",
     "evalue": "Compilation failed (return status=1):\n/Users/burke.227/opt/anaconda3/envs/pymc/bin/clang++ -dynamiclib -g -Wno-c++11-narrowing -fno-exceptions -fno-unwind-tables -fno-asynchronous-unwind-tables -DNPY_NO_DEPRECATED_API=NPY_1_7_API_VERSION -m64 -fPIC -undefined dynamic_lookup -I/Users/burke.227/opt/anaconda3/envs/pymc/lib/python3.10/site-packages/numpy/core/include -I/Users/burke.227/opt/anaconda3/envs/pymc/include/python3.10 -I/Users/burke.227/opt/anaconda3/envs/pymc/lib/python3.10/site-packages/pytensor/link/c/c_code -L/Users/burke.227/opt/anaconda3/envs/pymc/lib -fvisibility=hidden -o /Users/burke.227/.pytensor/compiledir_macOS-10.16-x86_64-i386-64bit-i386-3.10.9-64/lazylinker_ext/lazylinker_ext.so /Users/burke.227/.pytensor/compiledir_macOS-10.16-x86_64-i386-64bit-i386-3.10.9-64/lazylinker_ext/mod.cpp\nIn file included from /Users/burke.227/.pytensor/compiledir_macOS-10.16-x86_64-i386-64bit-i386-3.10.9-64/lazylinker_ext/mod.cpp:1:\nIn file included from /Users/burke.227/opt/anaconda3/envs/pymc/lib/python3.10/site-packages/pytensor/link/c/c_code/pytensor_mod_helper.h:4:\nIn file included from /Users/burke.227/opt/anaconda3/envs/pymc/include/python3.10/Python.h:25:\n/Users/burke.227/opt/anaconda3/envs/pymc/bin/../include/c++/v1/stdio.h:107:15: fatal error: 'stdio.h' file not found\n#include_next <stdio.h>\n              ^~~~~~~~~\n1 error generated.\n",
     "output_type": "error",
     "traceback": [
      "\u001b[0;31m---------------------------------------------------------------------------\u001b[0m",
      "\u001b[0;31mImportError\u001b[0m                               Traceback (most recent call last)",
      "File \u001b[0;32m~/opt/anaconda3/envs/pymc/lib/python3.10/site-packages/pytensor/link/c/lazylinker_c.py:79\u001b[0m\n\u001b[1;32m     78\u001b[0m         \u001b[38;5;28;01mif\u001b[39;00m version \u001b[38;5;241m!=\u001b[39m actual_version:\n\u001b[0;32m---> 79\u001b[0m             \u001b[38;5;28;01mraise\u001b[39;00m \u001b[38;5;167;01mImportError\u001b[39;00m(\n\u001b[1;32m     80\u001b[0m                 \u001b[38;5;124m\"\u001b[39m\u001b[38;5;124mVersion check of the existing lazylinker compiled file.\u001b[39m\u001b[38;5;124m\"\u001b[39m\n\u001b[1;32m     81\u001b[0m                 \u001b[38;5;124mf\u001b[39m\u001b[38;5;124m\"\u001b[39m\u001b[38;5;124m Looking for version \u001b[39m\u001b[38;5;132;01m{\u001b[39;00mversion\u001b[38;5;132;01m}\u001b[39;00m\u001b[38;5;124m, but found \u001b[39m\u001b[38;5;132;01m{\u001b[39;00mactual_version\u001b[38;5;132;01m}\u001b[39;00m\u001b[38;5;124m. \u001b[39m\u001b[38;5;124m\"\u001b[39m\n\u001b[1;32m     82\u001b[0m                 \u001b[38;5;124mf\u001b[39m\u001b[38;5;124m\"\u001b[39m\u001b[38;5;124mExtra debug information: force_compile=\u001b[39m\u001b[38;5;132;01m{\u001b[39;00mforce_compile\u001b[38;5;132;01m}\u001b[39;00m\u001b[38;5;124m, _need_reload=\u001b[39m\u001b[38;5;132;01m{\u001b[39;00m_need_reload\u001b[38;5;132;01m}\u001b[39;00m\u001b[38;5;124m\"\u001b[39m\n\u001b[1;32m     83\u001b[0m             )\n\u001b[1;32m     84\u001b[0m \u001b[38;5;28;01mexcept\u001b[39;00m \u001b[38;5;167;01mImportError\u001b[39;00m:\n",
      "\u001b[0;31mImportError\u001b[0m: Version check of the existing lazylinker compiled file. Looking for version 0.212, but found None. Extra debug information: force_compile=False, _need_reload=True",
      "\nDuring handling of the above exception, another exception occurred:\n",
      "\u001b[0;31mImportError\u001b[0m                               Traceback (most recent call last)",
      "File \u001b[0;32m~/opt/anaconda3/envs/pymc/lib/python3.10/site-packages/pytensor/link/c/lazylinker_c.py:100\u001b[0m\n\u001b[1;32m     99\u001b[0m     \u001b[38;5;28;01mif\u001b[39;00m version \u001b[38;5;241m!=\u001b[39m actual_version:\n\u001b[0;32m--> 100\u001b[0m         \u001b[38;5;28;01mraise\u001b[39;00m \u001b[38;5;167;01mImportError\u001b[39;00m(\n\u001b[1;32m    101\u001b[0m             \u001b[38;5;124m\"\u001b[39m\u001b[38;5;124mVersion check of the existing lazylinker compiled file.\u001b[39m\u001b[38;5;124m\"\u001b[39m\n\u001b[1;32m    102\u001b[0m             \u001b[38;5;124mf\u001b[39m\u001b[38;5;124m\"\u001b[39m\u001b[38;5;124m Looking for version \u001b[39m\u001b[38;5;132;01m{\u001b[39;00mversion\u001b[38;5;132;01m}\u001b[39;00m\u001b[38;5;124m, but found \u001b[39m\u001b[38;5;132;01m{\u001b[39;00mactual_version\u001b[38;5;132;01m}\u001b[39;00m\u001b[38;5;124m. \u001b[39m\u001b[38;5;124m\"\u001b[39m\n\u001b[1;32m    103\u001b[0m             \u001b[38;5;124mf\u001b[39m\u001b[38;5;124m\"\u001b[39m\u001b[38;5;124mExtra debug information: force_compile=\u001b[39m\u001b[38;5;132;01m{\u001b[39;00mforce_compile\u001b[38;5;132;01m}\u001b[39;00m\u001b[38;5;124m, _need_reload=\u001b[39m\u001b[38;5;132;01m{\u001b[39;00m_need_reload\u001b[38;5;132;01m}\u001b[39;00m\u001b[38;5;124m\"\u001b[39m\n\u001b[1;32m    104\u001b[0m         )\n\u001b[1;32m    105\u001b[0m \u001b[38;5;28;01mexcept\u001b[39;00m \u001b[38;5;167;01mImportError\u001b[39;00m:\n\u001b[1;32m    106\u001b[0m     \u001b[38;5;66;03m# It is useless to try to compile if there isn't any\u001b[39;00m\n\u001b[1;32m    107\u001b[0m     \u001b[38;5;66;03m# compiler!  But we still want to try to load it, in case\u001b[39;00m\n\u001b[1;32m    108\u001b[0m     \u001b[38;5;66;03m# the cache was copied from another computer.\u001b[39;00m\n",
      "\u001b[0;31mImportError\u001b[0m: Version check of the existing lazylinker compiled file. Looking for version 0.212, but found None. Extra debug information: force_compile=False, _need_reload=True",
      "\nDuring handling of the above exception, another exception occurred:\n",
      "\u001b[0;31mCompileError\u001b[0m                              Traceback (most recent call last)",
      "Cell \u001b[0;32mIn[10], line 17\u001b[0m\n\u001b[1;32m     15\u001b[0m likelihood \u001b[38;5;241m=\u001b[39m pm\u001b[38;5;241m.\u001b[39mNormal(\u001b[38;5;124m'\u001b[39m\u001b[38;5;124mcdrChangeWithTreatment\u001b[39m\u001b[38;5;124m'\u001b[39m, mu\u001b[38;5;241m=\u001b[39mmeanCDRSBChangeWithLecanemabInTrial, sigma\u001b[38;5;241m=\u001b[39msdCDRSBChangeWithLecanemabInTrial)\n\u001b[1;32m     16\u001b[0m posterior \u001b[38;5;241m=\u001b[39m pm\u001b[38;5;241m.\u001b[39mNormal(\u001b[38;5;124m'\u001b[39m\u001b[38;5;124mposterior\u001b[39m\u001b[38;5;124m'\u001b[39m, mu\u001b[38;5;241m=\u001b[39mprior \u001b[38;5;241m*\u001b[39m likelihood, sigma\u001b[38;5;241m=\u001b[39mnp\u001b[38;5;241m.\u001b[39msqrt(priorSE\u001b[38;5;241m*\u001b[39m\u001b[38;5;241m*\u001b[39m\u001b[38;5;241m2\u001b[39m\u001b[38;5;241m/\u001b[39mpriorMean \u001b[38;5;241m+\u001b[39m sdCDRSBChangeWithLecanemabInTrial\u001b[38;5;241m*\u001b[39m\u001b[38;5;241m*\u001b[39m\u001b[38;5;241m2\u001b[39m\u001b[38;5;241m/\u001b[39mmeanCDRSBChangeWithLecanemabInTrial))\n\u001b[0;32m---> 17\u001b[0m \u001b[43mpm\u001b[49m\u001b[38;5;241;43m.\u001b[39;49m\u001b[43msample\u001b[49m\u001b[43m(\u001b[49m\u001b[43m)\u001b[49m\n",
      "File \u001b[0;32m~/opt/anaconda3/envs/pymc/lib/python3.10/site-packages/pymc/sampling/mcmc.py:452\u001b[0m, in \u001b[0;36msample\u001b[0;34m(draws, step, init, n_init, initvals, trace, chains, cores, tune, progressbar, model, random_seed, discard_tuned_samples, compute_convergence_checks, callback, jitter_max_retries, return_inferencedata, keep_warning_stat, idata_kwargs, mp_ctx, **kwargs)\u001b[0m\n\u001b[1;32m    449\u001b[0m         auto_nuts_init \u001b[38;5;241m=\u001b[39m \u001b[38;5;28;01mFalse\u001b[39;00m\n\u001b[1;32m    451\u001b[0m initial_points \u001b[38;5;241m=\u001b[39m \u001b[38;5;28;01mNone\u001b[39;00m\n\u001b[0;32m--> 452\u001b[0m step \u001b[38;5;241m=\u001b[39m \u001b[43massign_step_methods\u001b[49m\u001b[43m(\u001b[49m\u001b[43mmodel\u001b[49m\u001b[43m,\u001b[49m\u001b[43m \u001b[49m\u001b[43mstep\u001b[49m\u001b[43m,\u001b[49m\u001b[43m \u001b[49m\u001b[43mmethods\u001b[49m\u001b[38;5;241;43m=\u001b[39;49m\u001b[43mpm\u001b[49m\u001b[38;5;241;43m.\u001b[39;49m\u001b[43mSTEP_METHODS\u001b[49m\u001b[43m,\u001b[49m\u001b[43m \u001b[49m\u001b[43mstep_kwargs\u001b[49m\u001b[38;5;241;43m=\u001b[39;49m\u001b[43mkwargs\u001b[49m\u001b[43m)\u001b[49m\n\u001b[1;32m    454\u001b[0m \u001b[38;5;28;01mif\u001b[39;00m \u001b[38;5;28misinstance\u001b[39m(step, \u001b[38;5;28mlist\u001b[39m):\n\u001b[1;32m    455\u001b[0m     step \u001b[38;5;241m=\u001b[39m CompoundStep(step)\n",
      "File \u001b[0;32m~/opt/anaconda3/envs/pymc/lib/python3.10/site-packages/pymc/sampling/mcmc.py:194\u001b[0m, in \u001b[0;36massign_step_methods\u001b[0;34m(model, step, methods, step_kwargs)\u001b[0m\n\u001b[1;32m    186\u001b[0m         selected \u001b[38;5;241m=\u001b[39m \u001b[38;5;28mmax\u001b[39m(\n\u001b[1;32m    187\u001b[0m             methods,\n\u001b[1;32m    188\u001b[0m             key\u001b[38;5;241m=\u001b[39m\u001b[38;5;28;01mlambda\u001b[39;00m method, var\u001b[38;5;241m=\u001b[39mrv_var, has_gradient\u001b[38;5;241m=\u001b[39mhas_gradient: method\u001b[38;5;241m.\u001b[39m_competence(\n\u001b[1;32m    189\u001b[0m                 var, has_gradient\n\u001b[1;32m    190\u001b[0m             ),\n\u001b[1;32m    191\u001b[0m         )\n\u001b[1;32m    192\u001b[0m         selected_steps[selected]\u001b[38;5;241m.\u001b[39mappend(var)\n\u001b[0;32m--> 194\u001b[0m \u001b[38;5;28;01mreturn\u001b[39;00m \u001b[43minstantiate_steppers\u001b[49m\u001b[43m(\u001b[49m\u001b[43mmodel\u001b[49m\u001b[43m,\u001b[49m\u001b[43m \u001b[49m\u001b[43msteps\u001b[49m\u001b[43m,\u001b[49m\u001b[43m \u001b[49m\u001b[43mselected_steps\u001b[49m\u001b[43m,\u001b[49m\u001b[43m \u001b[49m\u001b[43mstep_kwargs\u001b[49m\u001b[43m)\u001b[49m\n",
      "File \u001b[0;32m~/opt/anaconda3/envs/pymc/lib/python3.10/site-packages/pymc/sampling/mcmc.py:112\u001b[0m, in \u001b[0;36minstantiate_steppers\u001b[0;34m(model, steps, selected_steps, step_kwargs)\u001b[0m\n\u001b[1;32m    110\u001b[0m         args \u001b[38;5;241m=\u001b[39m step_kwargs\u001b[38;5;241m.\u001b[39mget(step_class\u001b[38;5;241m.\u001b[39mname, {})\n\u001b[1;32m    111\u001b[0m         used_keys\u001b[38;5;241m.\u001b[39madd(step_class\u001b[38;5;241m.\u001b[39mname)\n\u001b[0;32m--> 112\u001b[0m         step \u001b[38;5;241m=\u001b[39m \u001b[43mstep_class\u001b[49m\u001b[43m(\u001b[49m\u001b[38;5;28;43mvars\u001b[39;49m\u001b[38;5;241;43m=\u001b[39;49m\u001b[38;5;28;43mvars\u001b[39;49m\u001b[43m,\u001b[49m\u001b[43m \u001b[49m\u001b[43mmodel\u001b[49m\u001b[38;5;241;43m=\u001b[39;49m\u001b[43mmodel\u001b[49m\u001b[43m,\u001b[49m\u001b[43m \u001b[49m\u001b[38;5;241;43m*\u001b[39;49m\u001b[38;5;241;43m*\u001b[39;49m\u001b[43margs\u001b[49m\u001b[43m)\u001b[49m\n\u001b[1;32m    113\u001b[0m         steps\u001b[38;5;241m.\u001b[39mappend(step)\n\u001b[1;32m    115\u001b[0m unused_args \u001b[38;5;241m=\u001b[39m \u001b[38;5;28mset\u001b[39m(step_kwargs)\u001b[38;5;241m.\u001b[39mdifference(used_keys)\n",
      "File \u001b[0;32m~/opt/anaconda3/envs/pymc/lib/python3.10/site-packages/pymc/step_methods/hmc/nuts.py:182\u001b[0m, in \u001b[0;36mNUTS.__init__\u001b[0;34m(self, vars, max_treedepth, early_max_treedepth, **kwargs)\u001b[0m\n\u001b[1;32m    124\u001b[0m \u001b[38;5;28;01mdef\u001b[39;00m \u001b[38;5;21m__init__\u001b[39m(\u001b[38;5;28mself\u001b[39m, \u001b[38;5;28mvars\u001b[39m\u001b[38;5;241m=\u001b[39m\u001b[38;5;28;01mNone\u001b[39;00m, max_treedepth\u001b[38;5;241m=\u001b[39m\u001b[38;5;241m10\u001b[39m, early_max_treedepth\u001b[38;5;241m=\u001b[39m\u001b[38;5;241m8\u001b[39m, \u001b[38;5;241m*\u001b[39m\u001b[38;5;241m*\u001b[39mkwargs):\n\u001b[1;32m    125\u001b[0m     \u001b[38;5;124mr\u001b[39m\u001b[38;5;124;03m\"\"\"Set up the No-U-Turn sampler.\u001b[39;00m\n\u001b[1;32m    126\u001b[0m \n\u001b[1;32m    127\u001b[0m \u001b[38;5;124;03m    Parameters\u001b[39;00m\n\u001b[0;32m   (...)\u001b[0m\n\u001b[1;32m    180\u001b[0m \u001b[38;5;124;03m    `pm.sample` to the desired number of tuning steps.\u001b[39;00m\n\u001b[1;32m    181\u001b[0m \u001b[38;5;124;03m    \"\"\"\u001b[39;00m\n\u001b[0;32m--> 182\u001b[0m     \u001b[38;5;28;43msuper\u001b[39;49m\u001b[43m(\u001b[49m\u001b[43m)\u001b[49m\u001b[38;5;241;43m.\u001b[39;49m\u001b[38;5;21;43m__init__\u001b[39;49m\u001b[43m(\u001b[49m\u001b[38;5;28;43mvars\u001b[39;49m\u001b[43m,\u001b[49m\u001b[43m \u001b[49m\u001b[38;5;241;43m*\u001b[39;49m\u001b[38;5;241;43m*\u001b[39;49m\u001b[43mkwargs\u001b[49m\u001b[43m)\u001b[49m\n\u001b[1;32m    184\u001b[0m     \u001b[38;5;28mself\u001b[39m\u001b[38;5;241m.\u001b[39mmax_treedepth \u001b[38;5;241m=\u001b[39m max_treedepth\n\u001b[1;32m    185\u001b[0m     \u001b[38;5;28mself\u001b[39m\u001b[38;5;241m.\u001b[39mearly_max_treedepth \u001b[38;5;241m=\u001b[39m early_max_treedepth\n",
      "File \u001b[0;32m~/opt/anaconda3/envs/pymc/lib/python3.10/site-packages/pymc/step_methods/hmc/base_hmc.py:109\u001b[0m, in \u001b[0;36mBaseHMC.__init__\u001b[0;34m(self, vars, scaling, step_scale, is_cov, model, blocked, potential, dtype, Emax, target_accept, gamma, k, t0, adapt_step_size, step_rand, **pytensor_kwargs)\u001b[0m\n\u001b[1;32m    107\u001b[0m \u001b[38;5;28;01melse\u001b[39;00m:\n\u001b[1;32m    108\u001b[0m     \u001b[38;5;28mvars\u001b[39m \u001b[38;5;241m=\u001b[39m get_value_vars_from_user_vars(\u001b[38;5;28mvars\u001b[39m, \u001b[38;5;28mself\u001b[39m\u001b[38;5;241m.\u001b[39m_model)\n\u001b[0;32m--> 109\u001b[0m \u001b[38;5;28;43msuper\u001b[39;49m\u001b[43m(\u001b[49m\u001b[43m)\u001b[49m\u001b[38;5;241;43m.\u001b[39;49m\u001b[38;5;21;43m__init__\u001b[39;49m\u001b[43m(\u001b[49m\u001b[38;5;28;43mvars\u001b[39;49m\u001b[43m,\u001b[49m\u001b[43m \u001b[49m\u001b[43mblocked\u001b[49m\u001b[38;5;241;43m=\u001b[39;49m\u001b[43mblocked\u001b[49m\u001b[43m,\u001b[49m\u001b[43m \u001b[49m\u001b[43mmodel\u001b[49m\u001b[38;5;241;43m=\u001b[39;49m\u001b[38;5;28;43mself\u001b[39;49m\u001b[38;5;241;43m.\u001b[39;49m\u001b[43m_model\u001b[49m\u001b[43m,\u001b[49m\u001b[43m \u001b[49m\u001b[43mdtype\u001b[49m\u001b[38;5;241;43m=\u001b[39;49m\u001b[43mdtype\u001b[49m\u001b[43m,\u001b[49m\u001b[43m \u001b[49m\u001b[38;5;241;43m*\u001b[39;49m\u001b[38;5;241;43m*\u001b[39;49m\u001b[43mpytensor_kwargs\u001b[49m\u001b[43m)\u001b[49m\n\u001b[1;32m    111\u001b[0m \u001b[38;5;28mself\u001b[39m\u001b[38;5;241m.\u001b[39madapt_step_size \u001b[38;5;241m=\u001b[39m adapt_step_size\n\u001b[1;32m    112\u001b[0m \u001b[38;5;28mself\u001b[39m\u001b[38;5;241m.\u001b[39mEmax \u001b[38;5;241m=\u001b[39m Emax\n",
      "File \u001b[0;32m~/opt/anaconda3/envs/pymc/lib/python3.10/site-packages/pymc/step_methods/arraystep.py:166\u001b[0m, in \u001b[0;36mGradientSharedStep.__init__\u001b[0;34m(self, vars, model, blocked, dtype, logp_dlogp_func, **pytensor_kwargs)\u001b[0m\n\u001b[1;32m    163\u001b[0m model \u001b[38;5;241m=\u001b[39m modelcontext(model)\n\u001b[1;32m    165\u001b[0m \u001b[38;5;28;01mif\u001b[39;00m logp_dlogp_func \u001b[38;5;129;01mis\u001b[39;00m \u001b[38;5;28;01mNone\u001b[39;00m:\n\u001b[0;32m--> 166\u001b[0m     func \u001b[38;5;241m=\u001b[39m \u001b[43mmodel\u001b[49m\u001b[38;5;241;43m.\u001b[39;49m\u001b[43mlogp_dlogp_function\u001b[49m\u001b[43m(\u001b[49m\u001b[38;5;28;43mvars\u001b[39;49m\u001b[43m,\u001b[49m\u001b[43m \u001b[49m\u001b[43mdtype\u001b[49m\u001b[38;5;241;43m=\u001b[39;49m\u001b[43mdtype\u001b[49m\u001b[43m,\u001b[49m\u001b[43m \u001b[49m\u001b[38;5;241;43m*\u001b[39;49m\u001b[38;5;241;43m*\u001b[39;49m\u001b[43mpytensor_kwargs\u001b[49m\u001b[43m)\u001b[49m\n\u001b[1;32m    167\u001b[0m \u001b[38;5;28;01melse\u001b[39;00m:\n\u001b[1;32m    168\u001b[0m     func \u001b[38;5;241m=\u001b[39m logp_dlogp_func\n",
      "File \u001b[0;32m~/opt/anaconda3/envs/pymc/lib/python3.10/site-packages/pymc/model.py:642\u001b[0m, in \u001b[0;36mModel.logp_dlogp_function\u001b[0;34m(self, grad_vars, tempered, **kwargs)\u001b[0m\n\u001b[1;32m    639\u001b[0m     costs \u001b[38;5;241m=\u001b[39m [\u001b[38;5;28mself\u001b[39m\u001b[38;5;241m.\u001b[39mlogp()]\n\u001b[1;32m    641\u001b[0m input_vars \u001b[38;5;241m=\u001b[39m {i \u001b[38;5;28;01mfor\u001b[39;00m i \u001b[38;5;129;01min\u001b[39;00m graph_inputs(costs) \u001b[38;5;28;01mif\u001b[39;00m \u001b[38;5;129;01mnot\u001b[39;00m \u001b[38;5;28misinstance\u001b[39m(i, Constant)}\n\u001b[0;32m--> 642\u001b[0m ip \u001b[38;5;241m=\u001b[39m \u001b[38;5;28;43mself\u001b[39;49m\u001b[38;5;241;43m.\u001b[39;49m\u001b[43minitial_point\u001b[49m\u001b[43m(\u001b[49m\u001b[38;5;241;43m0\u001b[39;49m\u001b[43m)\u001b[49m\n\u001b[1;32m    643\u001b[0m extra_vars_and_values \u001b[38;5;241m=\u001b[39m {\n\u001b[1;32m    644\u001b[0m     var: ip[var\u001b[38;5;241m.\u001b[39mname]\n\u001b[1;32m    645\u001b[0m     \u001b[38;5;28;01mfor\u001b[39;00m var \u001b[38;5;129;01min\u001b[39;00m \u001b[38;5;28mself\u001b[39m\u001b[38;5;241m.\u001b[39mvalue_vars\n\u001b[1;32m    646\u001b[0m     \u001b[38;5;28;01mif\u001b[39;00m var \u001b[38;5;129;01min\u001b[39;00m input_vars \u001b[38;5;129;01mand\u001b[39;00m var \u001b[38;5;129;01mnot\u001b[39;00m \u001b[38;5;129;01min\u001b[39;00m grad_vars\n\u001b[1;32m    647\u001b[0m }\n\u001b[1;32m    648\u001b[0m \u001b[38;5;28;01mreturn\u001b[39;00m ValueGradFunction(costs, grad_vars, extra_vars_and_values, \u001b[38;5;241m*\u001b[39m\u001b[38;5;241m*\u001b[39mkwargs)\n",
      "File \u001b[0;32m~/opt/anaconda3/envs/pymc/lib/python3.10/site-packages/pymc/model.py:1126\u001b[0m, in \u001b[0;36mModel.initial_point\u001b[0;34m(self, random_seed)\u001b[0m\n\u001b[1;32m   1113\u001b[0m \u001b[38;5;28;01mdef\u001b[39;00m \u001b[38;5;21minitial_point\u001b[39m(\u001b[38;5;28mself\u001b[39m, random_seed: SeedSequenceSeed \u001b[38;5;241m=\u001b[39m \u001b[38;5;28;01mNone\u001b[39;00m) \u001b[38;5;241m-\u001b[39m\u001b[38;5;241m>\u001b[39m Dict[\u001b[38;5;28mstr\u001b[39m, np\u001b[38;5;241m.\u001b[39mndarray]:\n\u001b[1;32m   1114\u001b[0m     \u001b[38;5;124;03m\"\"\"Computes the initial point of the model.\u001b[39;00m\n\u001b[1;32m   1115\u001b[0m \n\u001b[1;32m   1116\u001b[0m \u001b[38;5;124;03m    Parameters\u001b[39;00m\n\u001b[0;32m   (...)\u001b[0m\n\u001b[1;32m   1124\u001b[0m \u001b[38;5;124;03m        Maps names of transformed variables to numeric initial values in the transformed space.\u001b[39;00m\n\u001b[1;32m   1125\u001b[0m \u001b[38;5;124;03m    \"\"\"\u001b[39;00m\n\u001b[0;32m-> 1126\u001b[0m     fn \u001b[38;5;241m=\u001b[39m \u001b[43mmake_initial_point_fn\u001b[49m\u001b[43m(\u001b[49m\u001b[43mmodel\u001b[49m\u001b[38;5;241;43m=\u001b[39;49m\u001b[38;5;28;43mself\u001b[39;49m\u001b[43m,\u001b[49m\u001b[43m \u001b[49m\u001b[43mreturn_transformed\u001b[49m\u001b[38;5;241;43m=\u001b[39;49m\u001b[38;5;28;43;01mTrue\u001b[39;49;00m\u001b[43m)\u001b[49m\n\u001b[1;32m   1127\u001b[0m     \u001b[38;5;28;01mreturn\u001b[39;00m Point(fn(random_seed), model\u001b[38;5;241m=\u001b[39m\u001b[38;5;28mself\u001b[39m)\n",
      "File \u001b[0;32m~/opt/anaconda3/envs/pymc/lib/python3.10/site-packages/pymc/initial_point.py:152\u001b[0m, in \u001b[0;36mmake_initial_point_fn\u001b[0;34m(model, overrides, jitter_rvs, default_strategy, return_transformed)\u001b[0m\n\u001b[1;32m    149\u001b[0m \u001b[38;5;66;03m# Replace original rng shared variables so that we don't mess with them\u001b[39;00m\n\u001b[1;32m    150\u001b[0m \u001b[38;5;66;03m# when calling the final seeded function\u001b[39;00m\n\u001b[1;32m    151\u001b[0m initial_values \u001b[38;5;241m=\u001b[39m replace_rng_nodes(initial_values)\n\u001b[0;32m--> 152\u001b[0m func \u001b[38;5;241m=\u001b[39m \u001b[43mcompile_pymc\u001b[49m\u001b[43m(\u001b[49m\u001b[43minputs\u001b[49m\u001b[38;5;241;43m=\u001b[39;49m\u001b[43m[\u001b[49m\u001b[43m]\u001b[49m\u001b[43m,\u001b[49m\u001b[43m \u001b[49m\u001b[43moutputs\u001b[49m\u001b[38;5;241;43m=\u001b[39;49m\u001b[43minitial_values\u001b[49m\u001b[43m,\u001b[49m\u001b[43m \u001b[49m\u001b[43mmode\u001b[49m\u001b[38;5;241;43m=\u001b[39;49m\u001b[43mpytensor\u001b[49m\u001b[38;5;241;43m.\u001b[39;49m\u001b[43mcompile\u001b[49m\u001b[38;5;241;43m.\u001b[39;49m\u001b[43mmode\u001b[49m\u001b[38;5;241;43m.\u001b[39;49m\u001b[43mFAST_COMPILE\u001b[49m\u001b[43m)\u001b[49m\n\u001b[1;32m    154\u001b[0m varnames \u001b[38;5;241m=\u001b[39m []\n\u001b[1;32m    155\u001b[0m \u001b[38;5;28;01mfor\u001b[39;00m var \u001b[38;5;129;01min\u001b[39;00m model\u001b[38;5;241m.\u001b[39mfree_RVs:\n",
      "File \u001b[0;32m~/opt/anaconda3/envs/pymc/lib/python3.10/site-packages/pymc/pytensorf.py:1104\u001b[0m, in \u001b[0;36mcompile_pymc\u001b[0;34m(inputs, outputs, random_seed, mode, **kwargs)\u001b[0m\n\u001b[1;32m   1102\u001b[0m opt_qry \u001b[38;5;241m=\u001b[39m mode\u001b[38;5;241m.\u001b[39mprovided_optimizer\u001b[38;5;241m.\u001b[39mincluding(\u001b[38;5;124m\"\u001b[39m\u001b[38;5;124mrandom_make_inplace\u001b[39m\u001b[38;5;124m\"\u001b[39m, check_parameter_opt)\n\u001b[1;32m   1103\u001b[0m mode \u001b[38;5;241m=\u001b[39m Mode(linker\u001b[38;5;241m=\u001b[39mmode\u001b[38;5;241m.\u001b[39mlinker, optimizer\u001b[38;5;241m=\u001b[39mopt_qry)\n\u001b[0;32m-> 1104\u001b[0m pytensor_function \u001b[38;5;241m=\u001b[39m \u001b[43mpytensor\u001b[49m\u001b[38;5;241;43m.\u001b[39;49m\u001b[43mfunction\u001b[49m\u001b[43m(\u001b[49m\n\u001b[1;32m   1105\u001b[0m \u001b[43m    \u001b[49m\u001b[43minputs\u001b[49m\u001b[43m,\u001b[49m\n\u001b[1;32m   1106\u001b[0m \u001b[43m    \u001b[49m\u001b[43moutputs\u001b[49m\u001b[43m,\u001b[49m\n\u001b[1;32m   1107\u001b[0m \u001b[43m    \u001b[49m\u001b[43mupdates\u001b[49m\u001b[38;5;241;43m=\u001b[39;49m\u001b[43m{\u001b[49m\u001b[38;5;241;43m*\u001b[39;49m\u001b[38;5;241;43m*\u001b[39;49m\u001b[43mrng_updates\u001b[49m\u001b[43m,\u001b[49m\u001b[43m \u001b[49m\u001b[38;5;241;43m*\u001b[39;49m\u001b[38;5;241;43m*\u001b[39;49m\u001b[43mkwargs\u001b[49m\u001b[38;5;241;43m.\u001b[39;49m\u001b[43mpop\u001b[49m\u001b[43m(\u001b[49m\u001b[38;5;124;43m\"\u001b[39;49m\u001b[38;5;124;43mupdates\u001b[39;49m\u001b[38;5;124;43m\"\u001b[39;49m\u001b[43m,\u001b[49m\u001b[43m \u001b[49m\u001b[43m{\u001b[49m\u001b[43m}\u001b[49m\u001b[43m)\u001b[49m\u001b[43m}\u001b[49m\u001b[43m,\u001b[49m\n\u001b[1;32m   1108\u001b[0m \u001b[43m    \u001b[49m\u001b[43mmode\u001b[49m\u001b[38;5;241;43m=\u001b[39;49m\u001b[43mmode\u001b[49m\u001b[43m,\u001b[49m\n\u001b[1;32m   1109\u001b[0m \u001b[43m    \u001b[49m\u001b[38;5;241;43m*\u001b[39;49m\u001b[38;5;241;43m*\u001b[39;49m\u001b[43mkwargs\u001b[49m\u001b[43m,\u001b[49m\n\u001b[1;32m   1110\u001b[0m \u001b[43m\u001b[49m\u001b[43m)\u001b[49m\n\u001b[1;32m   1111\u001b[0m \u001b[38;5;28;01mreturn\u001b[39;00m pytensor_function\n",
      "File \u001b[0;32m~/opt/anaconda3/envs/pymc/lib/python3.10/site-packages/pytensor/compile/function/__init__.py:315\u001b[0m, in \u001b[0;36mfunction\u001b[0;34m(inputs, outputs, mode, updates, givens, no_default_updates, accept_inplace, name, rebuild_strict, allow_input_downcast, profile, on_unused_input)\u001b[0m\n\u001b[1;32m    309\u001b[0m     fn \u001b[38;5;241m=\u001b[39m orig_function(\n\u001b[1;32m    310\u001b[0m         inputs, outputs, mode\u001b[38;5;241m=\u001b[39mmode, accept_inplace\u001b[38;5;241m=\u001b[39maccept_inplace, name\u001b[38;5;241m=\u001b[39mname\n\u001b[1;32m    311\u001b[0m     )\n\u001b[1;32m    312\u001b[0m \u001b[38;5;28;01melse\u001b[39;00m:\n\u001b[1;32m    313\u001b[0m     \u001b[38;5;66;03m# note: pfunc will also call orig_function -- orig_function is\u001b[39;00m\n\u001b[1;32m    314\u001b[0m     \u001b[38;5;66;03m#      a choke point that all compilation must pass through\u001b[39;00m\n\u001b[0;32m--> 315\u001b[0m     fn \u001b[38;5;241m=\u001b[39m \u001b[43mpfunc\u001b[49m\u001b[43m(\u001b[49m\n\u001b[1;32m    316\u001b[0m \u001b[43m        \u001b[49m\u001b[43mparams\u001b[49m\u001b[38;5;241;43m=\u001b[39;49m\u001b[43minputs\u001b[49m\u001b[43m,\u001b[49m\n\u001b[1;32m    317\u001b[0m \u001b[43m        \u001b[49m\u001b[43moutputs\u001b[49m\u001b[38;5;241;43m=\u001b[39;49m\u001b[43moutputs\u001b[49m\u001b[43m,\u001b[49m\n\u001b[1;32m    318\u001b[0m \u001b[43m        \u001b[49m\u001b[43mmode\u001b[49m\u001b[38;5;241;43m=\u001b[39;49m\u001b[43mmode\u001b[49m\u001b[43m,\u001b[49m\n\u001b[1;32m    319\u001b[0m \u001b[43m        \u001b[49m\u001b[43mupdates\u001b[49m\u001b[38;5;241;43m=\u001b[39;49m\u001b[43mupdates\u001b[49m\u001b[43m,\u001b[49m\n\u001b[1;32m    320\u001b[0m \u001b[43m        \u001b[49m\u001b[43mgivens\u001b[49m\u001b[38;5;241;43m=\u001b[39;49m\u001b[43mgivens\u001b[49m\u001b[43m,\u001b[49m\n\u001b[1;32m    321\u001b[0m \u001b[43m        \u001b[49m\u001b[43mno_default_updates\u001b[49m\u001b[38;5;241;43m=\u001b[39;49m\u001b[43mno_default_updates\u001b[49m\u001b[43m,\u001b[49m\n\u001b[1;32m    322\u001b[0m \u001b[43m        \u001b[49m\u001b[43maccept_inplace\u001b[49m\u001b[38;5;241;43m=\u001b[39;49m\u001b[43maccept_inplace\u001b[49m\u001b[43m,\u001b[49m\n\u001b[1;32m    323\u001b[0m \u001b[43m        \u001b[49m\u001b[43mname\u001b[49m\u001b[38;5;241;43m=\u001b[39;49m\u001b[43mname\u001b[49m\u001b[43m,\u001b[49m\n\u001b[1;32m    324\u001b[0m \u001b[43m        \u001b[49m\u001b[43mrebuild_strict\u001b[49m\u001b[38;5;241;43m=\u001b[39;49m\u001b[43mrebuild_strict\u001b[49m\u001b[43m,\u001b[49m\n\u001b[1;32m    325\u001b[0m \u001b[43m        \u001b[49m\u001b[43mallow_input_downcast\u001b[49m\u001b[38;5;241;43m=\u001b[39;49m\u001b[43mallow_input_downcast\u001b[49m\u001b[43m,\u001b[49m\n\u001b[1;32m    326\u001b[0m \u001b[43m        \u001b[49m\u001b[43mon_unused_input\u001b[49m\u001b[38;5;241;43m=\u001b[39;49m\u001b[43mon_unused_input\u001b[49m\u001b[43m,\u001b[49m\n\u001b[1;32m    327\u001b[0m \u001b[43m        \u001b[49m\u001b[43mprofile\u001b[49m\u001b[38;5;241;43m=\u001b[39;49m\u001b[43mprofile\u001b[49m\u001b[43m,\u001b[49m\n\u001b[1;32m    328\u001b[0m \u001b[43m        \u001b[49m\u001b[43moutput_keys\u001b[49m\u001b[38;5;241;43m=\u001b[39;49m\u001b[43moutput_keys\u001b[49m\u001b[43m,\u001b[49m\n\u001b[1;32m    329\u001b[0m \u001b[43m    \u001b[49m\u001b[43m)\u001b[49m\n\u001b[1;32m    330\u001b[0m \u001b[38;5;28;01mreturn\u001b[39;00m fn\n",
      "File \u001b[0;32m~/opt/anaconda3/envs/pymc/lib/python3.10/site-packages/pytensor/compile/function/pfunc.py:367\u001b[0m, in \u001b[0;36mpfunc\u001b[0;34m(params, outputs, mode, updates, givens, no_default_updates, accept_inplace, name, rebuild_strict, allow_input_downcast, profile, on_unused_input, output_keys, fgraph)\u001b[0m\n\u001b[1;32m    353\u001b[0m     profile \u001b[38;5;241m=\u001b[39m ProfileStats(message\u001b[38;5;241m=\u001b[39mprofile)\n\u001b[1;32m    355\u001b[0m inputs, cloned_outputs \u001b[38;5;241m=\u001b[39m construct_pfunc_ins_and_outs(\n\u001b[1;32m    356\u001b[0m     params,\n\u001b[1;32m    357\u001b[0m     outputs,\n\u001b[0;32m   (...)\u001b[0m\n\u001b[1;32m    364\u001b[0m     fgraph\u001b[38;5;241m=\u001b[39mfgraph,\n\u001b[1;32m    365\u001b[0m )\n\u001b[0;32m--> 367\u001b[0m \u001b[38;5;28;01mreturn\u001b[39;00m \u001b[43morig_function\u001b[49m\u001b[43m(\u001b[49m\n\u001b[1;32m    368\u001b[0m \u001b[43m    \u001b[49m\u001b[43minputs\u001b[49m\u001b[43m,\u001b[49m\n\u001b[1;32m    369\u001b[0m \u001b[43m    \u001b[49m\u001b[43mcloned_outputs\u001b[49m\u001b[43m,\u001b[49m\n\u001b[1;32m    370\u001b[0m \u001b[43m    \u001b[49m\u001b[43mmode\u001b[49m\u001b[43m,\u001b[49m\n\u001b[1;32m    371\u001b[0m \u001b[43m    \u001b[49m\u001b[43maccept_inplace\u001b[49m\u001b[38;5;241;43m=\u001b[39;49m\u001b[43maccept_inplace\u001b[49m\u001b[43m,\u001b[49m\n\u001b[1;32m    372\u001b[0m \u001b[43m    \u001b[49m\u001b[43mname\u001b[49m\u001b[38;5;241;43m=\u001b[39;49m\u001b[43mname\u001b[49m\u001b[43m,\u001b[49m\n\u001b[1;32m    373\u001b[0m \u001b[43m    \u001b[49m\u001b[43mprofile\u001b[49m\u001b[38;5;241;43m=\u001b[39;49m\u001b[43mprofile\u001b[49m\u001b[43m,\u001b[49m\n\u001b[1;32m    374\u001b[0m \u001b[43m    \u001b[49m\u001b[43mon_unused_input\u001b[49m\u001b[38;5;241;43m=\u001b[39;49m\u001b[43mon_unused_input\u001b[49m\u001b[43m,\u001b[49m\n\u001b[1;32m    375\u001b[0m \u001b[43m    \u001b[49m\u001b[43moutput_keys\u001b[49m\u001b[38;5;241;43m=\u001b[39;49m\u001b[43moutput_keys\u001b[49m\u001b[43m,\u001b[49m\n\u001b[1;32m    376\u001b[0m \u001b[43m    \u001b[49m\u001b[43mfgraph\u001b[49m\u001b[38;5;241;43m=\u001b[39;49m\u001b[43mfgraph\u001b[49m\u001b[43m,\u001b[49m\n\u001b[1;32m    377\u001b[0m \u001b[43m\u001b[49m\u001b[43m)\u001b[49m\n",
      "File \u001b[0;32m~/opt/anaconda3/envs/pymc/lib/python3.10/site-packages/pytensor/compile/function/types.py:1763\u001b[0m, in \u001b[0;36morig_function\u001b[0;34m(inputs, outputs, mode, accept_inplace, name, profile, on_unused_input, output_keys, fgraph)\u001b[0m\n\u001b[1;32m   1751\u001b[0m     m \u001b[38;5;241m=\u001b[39m Maker(\n\u001b[1;32m   1752\u001b[0m         inputs,\n\u001b[1;32m   1753\u001b[0m         outputs,\n\u001b[0;32m   (...)\u001b[0m\n\u001b[1;32m   1760\u001b[0m         fgraph\u001b[38;5;241m=\u001b[39mfgraph,\n\u001b[1;32m   1761\u001b[0m     )\n\u001b[1;32m   1762\u001b[0m     \u001b[38;5;28;01mwith\u001b[39;00m config\u001b[38;5;241m.\u001b[39mchange_flags(compute_test_value\u001b[38;5;241m=\u001b[39m\u001b[38;5;124m\"\u001b[39m\u001b[38;5;124moff\u001b[39m\u001b[38;5;124m\"\u001b[39m):\n\u001b[0;32m-> 1763\u001b[0m         fn \u001b[38;5;241m=\u001b[39m \u001b[43mm\u001b[49m\u001b[38;5;241;43m.\u001b[39;49m\u001b[43mcreate\u001b[49m\u001b[43m(\u001b[49m\u001b[43mdefaults\u001b[49m\u001b[43m)\u001b[49m\n\u001b[1;32m   1764\u001b[0m \u001b[38;5;28;01mfinally\u001b[39;00m:\n\u001b[1;32m   1765\u001b[0m     t2 \u001b[38;5;241m=\u001b[39m time\u001b[38;5;241m.\u001b[39mperf_counter()\n",
      "File \u001b[0;32m~/opt/anaconda3/envs/pymc/lib/python3.10/site-packages/pytensor/compile/function/types.py:1656\u001b[0m, in \u001b[0;36mFunctionMaker.create\u001b[0;34m(self, input_storage, storage_map)\u001b[0m\n\u001b[1;32m   1653\u001b[0m start_import_time \u001b[38;5;241m=\u001b[39m pytensor\u001b[38;5;241m.\u001b[39mlink\u001b[38;5;241m.\u001b[39mc\u001b[38;5;241m.\u001b[39mcmodule\u001b[38;5;241m.\u001b[39mimport_time\n\u001b[1;32m   1655\u001b[0m \u001b[38;5;28;01mwith\u001b[39;00m config\u001b[38;5;241m.\u001b[39mchange_flags(traceback__limit\u001b[38;5;241m=\u001b[39mconfig\u001b[38;5;241m.\u001b[39mtraceback__compile_limit):\n\u001b[0;32m-> 1656\u001b[0m     _fn, _i, _o \u001b[38;5;241m=\u001b[39m \u001b[38;5;28;43mself\u001b[39;49m\u001b[38;5;241;43m.\u001b[39;49m\u001b[43mlinker\u001b[49m\u001b[38;5;241;43m.\u001b[39;49m\u001b[43mmake_thunk\u001b[49m\u001b[43m(\u001b[49m\n\u001b[1;32m   1657\u001b[0m \u001b[43m        \u001b[49m\u001b[43minput_storage\u001b[49m\u001b[38;5;241;43m=\u001b[39;49m\u001b[43minput_storage_lists\u001b[49m\u001b[43m,\u001b[49m\u001b[43m \u001b[49m\u001b[43mstorage_map\u001b[49m\u001b[38;5;241;43m=\u001b[39;49m\u001b[43mstorage_map\u001b[49m\n\u001b[1;32m   1658\u001b[0m \u001b[43m    \u001b[49m\u001b[43m)\u001b[49m\n\u001b[1;32m   1660\u001b[0m end_linker \u001b[38;5;241m=\u001b[39m time\u001b[38;5;241m.\u001b[39mperf_counter()\n\u001b[1;32m   1662\u001b[0m linker_time \u001b[38;5;241m=\u001b[39m end_linker \u001b[38;5;241m-\u001b[39m start_linker\n",
      "File \u001b[0;32m~/opt/anaconda3/envs/pymc/lib/python3.10/site-packages/pytensor/link/basic.py:254\u001b[0m, in \u001b[0;36mLocalLinker.make_thunk\u001b[0;34m(self, input_storage, output_storage, storage_map, **kwargs)\u001b[0m\n\u001b[1;32m    247\u001b[0m \u001b[38;5;28;01mdef\u001b[39;00m \u001b[38;5;21mmake_thunk\u001b[39m(\n\u001b[1;32m    248\u001b[0m     \u001b[38;5;28mself\u001b[39m,\n\u001b[1;32m    249\u001b[0m     input_storage: Optional[\u001b[38;5;124m\"\u001b[39m\u001b[38;5;124mInputStorageType\u001b[39m\u001b[38;5;124m\"\u001b[39m] \u001b[38;5;241m=\u001b[39m \u001b[38;5;28;01mNone\u001b[39;00m,\n\u001b[0;32m   (...)\u001b[0m\n\u001b[1;32m    252\u001b[0m     \u001b[38;5;241m*\u001b[39m\u001b[38;5;241m*\u001b[39mkwargs,\n\u001b[1;32m    253\u001b[0m ) \u001b[38;5;241m-\u001b[39m\u001b[38;5;241m>\u001b[39m Tuple[\u001b[38;5;124m\"\u001b[39m\u001b[38;5;124mBasicThunkType\u001b[39m\u001b[38;5;124m\"\u001b[39m, \u001b[38;5;124m\"\u001b[39m\u001b[38;5;124mInputStorageType\u001b[39m\u001b[38;5;124m\"\u001b[39m, \u001b[38;5;124m\"\u001b[39m\u001b[38;5;124mOutputStorageType\u001b[39m\u001b[38;5;124m\"\u001b[39m]:\n\u001b[0;32m--> 254\u001b[0m     \u001b[38;5;28;01mreturn\u001b[39;00m \u001b[38;5;28;43mself\u001b[39;49m\u001b[38;5;241;43m.\u001b[39;49m\u001b[43mmake_all\u001b[49m\u001b[43m(\u001b[49m\n\u001b[1;32m    255\u001b[0m \u001b[43m        \u001b[49m\u001b[43minput_storage\u001b[49m\u001b[38;5;241;43m=\u001b[39;49m\u001b[43minput_storage\u001b[49m\u001b[43m,\u001b[49m\n\u001b[1;32m    256\u001b[0m \u001b[43m        \u001b[49m\u001b[43moutput_storage\u001b[49m\u001b[38;5;241;43m=\u001b[39;49m\u001b[43moutput_storage\u001b[49m\u001b[43m,\u001b[49m\n\u001b[1;32m    257\u001b[0m \u001b[43m        \u001b[49m\u001b[43mstorage_map\u001b[49m\u001b[38;5;241;43m=\u001b[39;49m\u001b[43mstorage_map\u001b[49m\u001b[43m,\u001b[49m\n\u001b[1;32m    258\u001b[0m \u001b[43m    \u001b[49m\u001b[43m)\u001b[49m[:\u001b[38;5;241m3\u001b[39m]\n",
      "File \u001b[0;32m~/opt/anaconda3/envs/pymc/lib/python3.10/site-packages/pytensor/link/vm.py:1300\u001b[0m, in \u001b[0;36mVMLinker.make_all\u001b[0;34m(self, profiler, input_storage, output_storage, storage_map)\u001b[0m\n\u001b[1;32m   1297\u001b[0m \u001b[38;5;28;01melse\u001b[39;00m:\n\u001b[1;32m   1298\u001b[0m     post_thunk_clear \u001b[38;5;241m=\u001b[39m \u001b[38;5;28;01mNone\u001b[39;00m\n\u001b[0;32m-> 1300\u001b[0m vm \u001b[38;5;241m=\u001b[39m \u001b[38;5;28;43mself\u001b[39;49m\u001b[38;5;241;43m.\u001b[39;49m\u001b[43mmake_vm\u001b[49m\u001b[43m(\u001b[49m\n\u001b[1;32m   1301\u001b[0m \u001b[43m    \u001b[49m\u001b[43morder\u001b[49m\u001b[43m,\u001b[49m\n\u001b[1;32m   1302\u001b[0m \u001b[43m    \u001b[49m\u001b[43mthunks\u001b[49m\u001b[43m,\u001b[49m\n\u001b[1;32m   1303\u001b[0m \u001b[43m    \u001b[49m\u001b[43minput_storage\u001b[49m\u001b[43m,\u001b[49m\n\u001b[1;32m   1304\u001b[0m \u001b[43m    \u001b[49m\u001b[43moutput_storage\u001b[49m\u001b[43m,\u001b[49m\n\u001b[1;32m   1305\u001b[0m \u001b[43m    \u001b[49m\u001b[43mstorage_map\u001b[49m\u001b[43m,\u001b[49m\n\u001b[1;32m   1306\u001b[0m \u001b[43m    \u001b[49m\u001b[43mpost_thunk_clear\u001b[49m\u001b[43m,\u001b[49m\n\u001b[1;32m   1307\u001b[0m \u001b[43m    \u001b[49m\u001b[43mcomputed\u001b[49m\u001b[43m,\u001b[49m\n\u001b[1;32m   1308\u001b[0m \u001b[43m    \u001b[49m\u001b[43mcompute_map\u001b[49m\u001b[43m,\u001b[49m\n\u001b[1;32m   1309\u001b[0m \u001b[43m    \u001b[49m\u001b[38;5;28;43mself\u001b[39;49m\u001b[38;5;241;43m.\u001b[39;49m\u001b[43mupdated_vars\u001b[49m\u001b[43m,\u001b[49m\n\u001b[1;32m   1310\u001b[0m \u001b[43m\u001b[49m\u001b[43m)\u001b[49m\n\u001b[1;32m   1312\u001b[0m vm\u001b[38;5;241m.\u001b[39mstorage_map \u001b[38;5;241m=\u001b[39m storage_map\n\u001b[1;32m   1313\u001b[0m vm\u001b[38;5;241m.\u001b[39mcompute_map \u001b[38;5;241m=\u001b[39m compute_map\n",
      "File \u001b[0;32m~/opt/anaconda3/envs/pymc/lib/python3.10/site-packages/pytensor/link/vm.py:1021\u001b[0m, in \u001b[0;36mVMLinker.make_vm\u001b[0;34m(self, nodes, thunks, input_storage, output_storage, storage_map, post_thunk_clear, computed, compute_map, updated_vars)\u001b[0m\n\u001b[1;32m   1018\u001b[0m pre_call_clear \u001b[38;5;241m=\u001b[39m [storage_map[v] \u001b[38;5;28;01mfor\u001b[39;00m v \u001b[38;5;129;01min\u001b[39;00m \u001b[38;5;28mself\u001b[39m\u001b[38;5;241m.\u001b[39mno_recycling]\n\u001b[1;32m   1020\u001b[0m \u001b[38;5;28;01mtry\u001b[39;00m:\n\u001b[0;32m-> 1021\u001b[0m     \u001b[38;5;28;01mfrom\u001b[39;00m \u001b[38;5;21;01mpytensor\u001b[39;00m\u001b[38;5;21;01m.\u001b[39;00m\u001b[38;5;21;01mlink\u001b[39;00m\u001b[38;5;21;01m.\u001b[39;00m\u001b[38;5;21;01mc\u001b[39;00m\u001b[38;5;21;01m.\u001b[39;00m\u001b[38;5;21;01mcvm\u001b[39;00m \u001b[38;5;28;01mimport\u001b[39;00m CVM\n\u001b[1;32m   1022\u001b[0m \u001b[38;5;28;01mexcept\u001b[39;00m (MissingGXX, \u001b[38;5;167;01mImportError\u001b[39;00m):\n\u001b[1;32m   1023\u001b[0m     CVM \u001b[38;5;241m=\u001b[39m \u001b[38;5;28;01mNone\u001b[39;00m\n",
      "File \u001b[0;32m~/opt/anaconda3/envs/pymc/lib/python3.10/site-packages/pytensor/link/c/cvm.py:13\u001b[0m\n\u001b[1;32m      9\u001b[0m \u001b[38;5;28;01mif\u001b[39;00m \u001b[38;5;129;01mnot\u001b[39;00m config\u001b[38;5;241m.\u001b[39mcxx:\n\u001b[1;32m     10\u001b[0m     \u001b[38;5;28;01mraise\u001b[39;00m MissingGXX(\n\u001b[1;32m     11\u001b[0m         \u001b[38;5;124m\"\u001b[39m\u001b[38;5;124mlazylinker will not be imported if pytensor.config.cxx is not set.\u001b[39m\u001b[38;5;124m\"\u001b[39m\n\u001b[1;32m     12\u001b[0m     )\n\u001b[0;32m---> 13\u001b[0m \u001b[38;5;28;01mfrom\u001b[39;00m \u001b[38;5;21;01mpytensor\u001b[39;00m\u001b[38;5;21;01m.\u001b[39;00m\u001b[38;5;21;01mlink\u001b[39;00m\u001b[38;5;21;01m.\u001b[39;00m\u001b[38;5;21;01mc\u001b[39;00m\u001b[38;5;21;01m.\u001b[39;00m\u001b[38;5;21;01mlazylinker_c\u001b[39;00m \u001b[38;5;28;01mimport\u001b[39;00m CLazyLinker\n\u001b[1;32m     15\u001b[0m \u001b[38;5;28;01mclass\u001b[39;00m \u001b[38;5;21;01mCVM\u001b[39;00m(CLazyLinker, VM):\n\u001b[1;32m     16\u001b[0m     \u001b[38;5;28;01mdef\u001b[39;00m \u001b[38;5;21m__init__\u001b[39m(\u001b[38;5;28mself\u001b[39m, fgraph, \u001b[38;5;241m*\u001b[39margs, \u001b[38;5;241m*\u001b[39m\u001b[38;5;241m*\u001b[39mkwargs):\n",
      "File \u001b[0;32m~/opt/anaconda3/envs/pymc/lib/python3.10/site-packages/pytensor/link/c/lazylinker_c.py:143\u001b[0m\n\u001b[1;32m    140\u001b[0m         \u001b[38;5;28;01massert\u001b[39;00m os\u001b[38;5;241m.\u001b[39mpath\u001b[38;5;241m.\u001b[39mexists(loc)\n\u001b[1;32m    142\u001b[0m args \u001b[38;5;241m=\u001b[39m GCC_compiler\u001b[38;5;241m.\u001b[39mcompile_args()\n\u001b[0;32m--> 143\u001b[0m \u001b[43mGCC_compiler\u001b[49m\u001b[38;5;241;43m.\u001b[39;49m\u001b[43mcompile_str\u001b[49m\u001b[43m(\u001b[49m\u001b[43mdirname\u001b[49m\u001b[43m,\u001b[49m\u001b[43m \u001b[49m\u001b[43mcode\u001b[49m\u001b[43m,\u001b[49m\u001b[43m \u001b[49m\u001b[43mlocation\u001b[49m\u001b[38;5;241;43m=\u001b[39;49m\u001b[43mloc\u001b[49m\u001b[43m,\u001b[49m\u001b[43m \u001b[49m\u001b[43mpreargs\u001b[49m\u001b[38;5;241;43m=\u001b[39;49m\u001b[43margs\u001b[49m\u001b[43m)\u001b[49m\n\u001b[1;32m    144\u001b[0m \u001b[38;5;66;03m# Save version into the __init__.py file.\u001b[39;00m\n\u001b[1;32m    145\u001b[0m init_py \u001b[38;5;241m=\u001b[39m os\u001b[38;5;241m.\u001b[39mpath\u001b[38;5;241m.\u001b[39mjoin(loc, \u001b[38;5;124m\"\u001b[39m\u001b[38;5;124m__init__.py\u001b[39m\u001b[38;5;124m\"\u001b[39m)\n",
      "File \u001b[0;32m~/opt/anaconda3/envs/pymc/lib/python3.10/site-packages/pytensor/link/c/cmodule.py:2641\u001b[0m, in \u001b[0;36mGCC_compiler.compile_str\u001b[0;34m(module_name, src_code, location, include_dirs, lib_dirs, libs, preargs, py_module, hide_symbols)\u001b[0m\n\u001b[1;32m   2633\u001b[0m                 \u001b[38;5;28mprint\u001b[39m(\n\u001b[1;32m   2634\u001b[0m                     \u001b[38;5;124m\"\u001b[39m\u001b[38;5;124mCheck if package python-dev or python-devel is installed.\u001b[39m\u001b[38;5;124m\"\u001b[39m\n\u001b[1;32m   2635\u001b[0m                 )\n\u001b[1;32m   2637\u001b[0m     \u001b[38;5;66;03m# We replace '\\n' by '. ' in the error message because when Python\u001b[39;00m\n\u001b[1;32m   2638\u001b[0m     \u001b[38;5;66;03m# prints the exception, having '\\n' in the text makes it more\u001b[39;00m\n\u001b[1;32m   2639\u001b[0m     \u001b[38;5;66;03m# difficult to read.\u001b[39;00m\n\u001b[1;32m   2640\u001b[0m     \u001b[38;5;66;03m# compile_stderr = compile_stderr.replace(\"\\n\", \". \")\u001b[39;00m\n\u001b[0;32m-> 2641\u001b[0m     \u001b[38;5;28;01mraise\u001b[39;00m CompileError(\n\u001b[1;32m   2642\u001b[0m         \u001b[38;5;124mf\u001b[39m\u001b[38;5;124m\"\u001b[39m\u001b[38;5;124mCompilation failed (return status=\u001b[39m\u001b[38;5;132;01m{\u001b[39;00mstatus\u001b[38;5;132;01m}\u001b[39;00m\u001b[38;5;124m):\u001b[39m\u001b[38;5;130;01m\\n\u001b[39;00m\u001b[38;5;132;01m{\u001b[39;00m\u001b[38;5;124m'\u001b[39m\u001b[38;5;124m \u001b[39m\u001b[38;5;124m'\u001b[39m\u001b[38;5;241m.\u001b[39mjoin(cmd)\u001b[38;5;132;01m}\u001b[39;00m\u001b[38;5;130;01m\\n\u001b[39;00m\u001b[38;5;132;01m{\u001b[39;00mcompile_stderr\u001b[38;5;132;01m}\u001b[39;00m\u001b[38;5;124m\"\u001b[39m\n\u001b[1;32m   2643\u001b[0m     )\n\u001b[1;32m   2644\u001b[0m \u001b[38;5;28;01melif\u001b[39;00m config\u001b[38;5;241m.\u001b[39mcmodule__compilation_warning \u001b[38;5;129;01mand\u001b[39;00m compile_stderr:\n\u001b[1;32m   2645\u001b[0m     \u001b[38;5;66;03m# Print errors just below the command line.\u001b[39;00m\n\u001b[1;32m   2646\u001b[0m     \u001b[38;5;28mprint\u001b[39m(compile_stderr)\n",
      "\u001b[0;31mCompileError\u001b[0m: Compilation failed (return status=1):\n/Users/burke.227/opt/anaconda3/envs/pymc/bin/clang++ -dynamiclib -g -Wno-c++11-narrowing -fno-exceptions -fno-unwind-tables -fno-asynchronous-unwind-tables -DNPY_NO_DEPRECATED_API=NPY_1_7_API_VERSION -m64 -fPIC -undefined dynamic_lookup -I/Users/burke.227/opt/anaconda3/envs/pymc/lib/python3.10/site-packages/numpy/core/include -I/Users/burke.227/opt/anaconda3/envs/pymc/include/python3.10 -I/Users/burke.227/opt/anaconda3/envs/pymc/lib/python3.10/site-packages/pytensor/link/c/c_code -L/Users/burke.227/opt/anaconda3/envs/pymc/lib -fvisibility=hidden -o /Users/burke.227/.pytensor/compiledir_macOS-10.16-x86_64-i386-64bit-i386-3.10.9-64/lazylinker_ext/lazylinker_ext.so /Users/burke.227/.pytensor/compiledir_macOS-10.16-x86_64-i386-64bit-i386-3.10.9-64/lazylinker_ext/mod.cpp\nIn file included from /Users/burke.227/.pytensor/compiledir_macOS-10.16-x86_64-i386-64bit-i386-3.10.9-64/lazylinker_ext/mod.cpp:1:\nIn file included from /Users/burke.227/opt/anaconda3/envs/pymc/lib/python3.10/site-packages/pytensor/link/c/c_code/pytensor_mod_helper.h:4:\nIn file included from /Users/burke.227/opt/anaconda3/envs/pymc/include/python3.10/Python.h:25:\n/Users/burke.227/opt/anaconda3/envs/pymc/bin/../include/c++/v1/stdio.h:107:15: fatal error: 'stdio.h' file not found\n#include_next <stdio.h>\n              ^~~~~~~~~\n1 error generated.\n"
     ]
    }
   ],
   "source": [
    "# 1. surv to MMSE from paper\n",
    "# 2. SUVR to CDR-SB from paper appendix\n",
    "# 3. SURV to CDR-SB * lecanemabic SUVR change\n",
    "# 5. lecanemab trial data on CDR-SB\n",
    "\n",
    "with pm.Model() as model:\n",
    "    suvrToMMSE = pm.Normal('suvrToMMSE', mu=allDataSUVRToMMSEMean, sigma =allDataSUVRToMMSESE)\n",
    "    suvrToCDR = mmseToCDRSBIntercept + mmseToCDRSBSlope*suvrToMMSE\n",
    "    lecanemabSUVRChange = pm.Normal('lecanemabSUVRChange', mu=relativeChangeIn18MonthSUVRMean, sigma =relativeChangeIn18MonthSUVRSE)\n",
    "    \n",
    "    priorSE = np.sqrt(relativeChangeIn18MonthSUVRSE**2/relativeChangeIn18MonthSUVRMean + allDataSUVRToMMSESE**2/allDataSUVRToMMSEMean)\n",
    "    priorMean = suvrToCDR * lecanemabSUVRChange\n",
    "    prior = pm.Normal('prior', mu=priorMean, sigma= priorSE)\n",
    "    \n",
    "    likelihood = pm.Normal('cdrChangeWithTreatment', mu=meanCDRSBChangeWithLecanemabInTrial, sigma=sdCDRSBChangeWithLecanemabInTrial)\n",
    "    posterior = pm.Normal('posterior', mu=prior * likelihood, sigma=np.sqrt(priorSE**2/priorMean + sdCDRSBChangeWithLecanemabInTrial**2/meanCDRSBChangeWithLecanemabInTrial))\n",
    "    pm.sample()"
   ]
  },
  {
   "cell_type": "code",
   "execution_count": 7,
   "id": "6aef569a",
   "metadata": {},
   "outputs": [
    {
     "data": {
      "text/plain": [
       "pymc.Model.Model"
      ]
     },
     "execution_count": 7,
     "metadata": {},
     "output_type": "execute_result"
    }
   ],
   "source": [
    "pm.Model"
   ]
  },
  {
   "cell_type": "code",
   "execution_count": 12,
   "id": "d3ac6631",
   "metadata": {},
   "outputs": [
    {
     "name": "stdout",
     "output_type": "stream",
     "text": [
      "\n",
      "You can find the C code in this temporary file: /var/folders/wd/wlg9qv65701fzmgdkdfy5vtm0000gr/T/theano_compilation_error_0prq5idr\n"
     ]
    },
    {
     "ename": "Exception",
     "evalue": "(\"Compilation failed (return status=1): In file included from /Users/burke.227/.theano/compiledir_macOS-10.16-x86_64-i386-64bit-i386-3.9.7-64/tmp9r5nnvbi/mod.cpp:1:. In file included from /Users/burke.227/opt/anaconda3/include/python3.9/Python.h:25:. /Library/Developer/CommandLineTools/usr/bin/../include/c++/v1/stdio.h:107:15: fatal error: 'stdio.h' file not found. #include_next <stdio.h>.               ^~~~~~~~~. 1 error generated.. \", 'FunctionGraph(Elemwise{true_div,no_inplace}(TensorConstant{1.0}, TensorConstant{1.0}))')",
     "output_type": "error",
     "traceback": [
      "\u001b[0;31m---------------------------------------------------------------------------\u001b[0m",
      "\u001b[0;31mException\u001b[0m                                 Traceback (most recent call last)",
      "\u001b[0;32m/var/folders/wd/wlg9qv65701fzmgdkdfy5vtm0000gr/T/ipykernel_29940/1292337413.py\u001b[0m in \u001b[0;36m<module>\u001b[0;34m\u001b[0m\n\u001b[1;32m      3\u001b[0m \u001b[0;34m\u001b[0m\u001b[0m\n\u001b[1;32m      4\u001b[0m \u001b[0;32mwith\u001b[0m \u001b[0mpm\u001b[0m\u001b[0;34m.\u001b[0m\u001b[0mModel\u001b[0m\u001b[0;34m(\u001b[0m\u001b[0;34m)\u001b[0m \u001b[0;32mas\u001b[0m \u001b[0mlinear_model\u001b[0m\u001b[0;34m:\u001b[0m\u001b[0;34m\u001b[0m\u001b[0;34m\u001b[0m\u001b[0m\n\u001b[0;32m----> 5\u001b[0;31m     \u001b[0mweights\u001b[0m \u001b[0;34m=\u001b[0m \u001b[0mpm\u001b[0m\u001b[0;34m.\u001b[0m\u001b[0mNormal\u001b[0m\u001b[0;34m(\u001b[0m\u001b[0;34m\"weights\"\u001b[0m\u001b[0;34m,\u001b[0m \u001b[0mmu\u001b[0m\u001b[0;34m=\u001b[0m\u001b[0;36m0\u001b[0m\u001b[0;34m,\u001b[0m \u001b[0msigma\u001b[0m\u001b[0;34m=\u001b[0m\u001b[0;36m1\u001b[0m\u001b[0;34m)\u001b[0m\u001b[0;34m\u001b[0m\u001b[0;34m\u001b[0m\u001b[0m\n\u001b[0m\u001b[1;32m      6\u001b[0m     \u001b[0mnoise\u001b[0m \u001b[0;34m=\u001b[0m \u001b[0mpm\u001b[0m\u001b[0;34m.\u001b[0m\u001b[0mGamma\u001b[0m\u001b[0;34m(\u001b[0m\u001b[0;34m\"noise\"\u001b[0m\u001b[0;34m,\u001b[0m \u001b[0malpha\u001b[0m\u001b[0;34m=\u001b[0m\u001b[0;36m2\u001b[0m\u001b[0;34m,\u001b[0m \u001b[0mbeta\u001b[0m\u001b[0;34m=\u001b[0m\u001b[0;36m1\u001b[0m\u001b[0;34m)\u001b[0m\u001b[0;34m\u001b[0m\u001b[0;34m\u001b[0m\u001b[0m\n\u001b[1;32m      7\u001b[0m     y_observed = pm.Normal(\n",
      "\u001b[0;32m~/opt/anaconda3/lib/python3.9/site-packages/pymc3/distributions/distribution.py\u001b[0m in \u001b[0;36m__new__\u001b[0;34m(cls, name, *args, **kwargs)\u001b[0m\n\u001b[1;32m    119\u001b[0m             \u001b[0mdist\u001b[0m \u001b[0;34m=\u001b[0m \u001b[0mcls\u001b[0m\u001b[0;34m.\u001b[0m\u001b[0mdist\u001b[0m\u001b[0;34m(\u001b[0m\u001b[0;34m*\u001b[0m\u001b[0margs\u001b[0m\u001b[0;34m,\u001b[0m \u001b[0;34m**\u001b[0m\u001b[0mkwargs\u001b[0m\u001b[0;34m,\u001b[0m \u001b[0mshape\u001b[0m\u001b[0;34m=\u001b[0m\u001b[0mshape\u001b[0m\u001b[0;34m)\u001b[0m\u001b[0;34m\u001b[0m\u001b[0;34m\u001b[0m\u001b[0m\n\u001b[1;32m    120\u001b[0m         \u001b[0;32melse\u001b[0m\u001b[0;34m:\u001b[0m\u001b[0;34m\u001b[0m\u001b[0;34m\u001b[0m\u001b[0m\n\u001b[0;32m--> 121\u001b[0;31m             \u001b[0mdist\u001b[0m \u001b[0;34m=\u001b[0m \u001b[0mcls\u001b[0m\u001b[0;34m.\u001b[0m\u001b[0mdist\u001b[0m\u001b[0;34m(\u001b[0m\u001b[0;34m*\u001b[0m\u001b[0margs\u001b[0m\u001b[0;34m,\u001b[0m \u001b[0;34m**\u001b[0m\u001b[0mkwargs\u001b[0m\u001b[0;34m)\u001b[0m\u001b[0;34m\u001b[0m\u001b[0;34m\u001b[0m\u001b[0m\n\u001b[0m\u001b[1;32m    122\u001b[0m         \u001b[0;32mreturn\u001b[0m \u001b[0mmodel\u001b[0m\u001b[0;34m.\u001b[0m\u001b[0mVar\u001b[0m\u001b[0;34m(\u001b[0m\u001b[0mname\u001b[0m\u001b[0;34m,\u001b[0m \u001b[0mdist\u001b[0m\u001b[0;34m,\u001b[0m \u001b[0mdata\u001b[0m\u001b[0;34m,\u001b[0m \u001b[0mtotal_size\u001b[0m\u001b[0;34m,\u001b[0m \u001b[0mdims\u001b[0m\u001b[0;34m=\u001b[0m\u001b[0mdims\u001b[0m\u001b[0;34m)\u001b[0m\u001b[0;34m\u001b[0m\u001b[0;34m\u001b[0m\u001b[0m\n\u001b[1;32m    123\u001b[0m \u001b[0;34m\u001b[0m\u001b[0m\n",
      "\u001b[0;32m~/opt/anaconda3/lib/python3.9/site-packages/pymc3/distributions/distribution.py\u001b[0m in \u001b[0;36mdist\u001b[0;34m(cls, *args, **kwargs)\u001b[0m\n\u001b[1;32m    128\u001b[0m     \u001b[0;32mdef\u001b[0m \u001b[0mdist\u001b[0m\u001b[0;34m(\u001b[0m\u001b[0mcls\u001b[0m\u001b[0;34m,\u001b[0m \u001b[0;34m*\u001b[0m\u001b[0margs\u001b[0m\u001b[0;34m,\u001b[0m \u001b[0;34m**\u001b[0m\u001b[0mkwargs\u001b[0m\u001b[0;34m)\u001b[0m\u001b[0;34m:\u001b[0m\u001b[0;34m\u001b[0m\u001b[0;34m\u001b[0m\u001b[0m\n\u001b[1;32m    129\u001b[0m         \u001b[0mdist\u001b[0m \u001b[0;34m=\u001b[0m \u001b[0mobject\u001b[0m\u001b[0;34m.\u001b[0m\u001b[0m__new__\u001b[0m\u001b[0;34m(\u001b[0m\u001b[0mcls\u001b[0m\u001b[0;34m)\u001b[0m\u001b[0;34m\u001b[0m\u001b[0;34m\u001b[0m\u001b[0m\n\u001b[0;32m--> 130\u001b[0;31m         \u001b[0mdist\u001b[0m\u001b[0;34m.\u001b[0m\u001b[0m__init__\u001b[0m\u001b[0;34m(\u001b[0m\u001b[0;34m*\u001b[0m\u001b[0margs\u001b[0m\u001b[0;34m,\u001b[0m \u001b[0;34m**\u001b[0m\u001b[0mkwargs\u001b[0m\u001b[0;34m)\u001b[0m\u001b[0;34m\u001b[0m\u001b[0;34m\u001b[0m\u001b[0m\n\u001b[0m\u001b[1;32m    131\u001b[0m         \u001b[0;32mreturn\u001b[0m \u001b[0mdist\u001b[0m\u001b[0;34m\u001b[0m\u001b[0;34m\u001b[0m\u001b[0m\n\u001b[1;32m    132\u001b[0m \u001b[0;34m\u001b[0m\u001b[0m\n",
      "\u001b[0;32m~/opt/anaconda3/lib/python3.9/site-packages/pymc3/distributions/continuous.py\u001b[0m in \u001b[0;36m__init__\u001b[0;34m(self, mu, sigma, tau, sd, **kwargs)\u001b[0m\n\u001b[1;32m    486\u001b[0m \u001b[0;34m\u001b[0m\u001b[0m\n\u001b[1;32m    487\u001b[0m         \u001b[0mself\u001b[0m\u001b[0;34m.\u001b[0m\u001b[0mmean\u001b[0m \u001b[0;34m=\u001b[0m \u001b[0mself\u001b[0m\u001b[0;34m.\u001b[0m\u001b[0mmedian\u001b[0m \u001b[0;34m=\u001b[0m \u001b[0mself\u001b[0m\u001b[0;34m.\u001b[0m\u001b[0mmode\u001b[0m \u001b[0;34m=\u001b[0m \u001b[0mself\u001b[0m\u001b[0;34m.\u001b[0m\u001b[0mmu\u001b[0m \u001b[0;34m=\u001b[0m \u001b[0mmu\u001b[0m \u001b[0;34m=\u001b[0m \u001b[0mtt\u001b[0m\u001b[0;34m.\u001b[0m\u001b[0mas_tensor_variable\u001b[0m\u001b[0;34m(\u001b[0m\u001b[0mfloatX\u001b[0m\u001b[0;34m(\u001b[0m\u001b[0mmu\u001b[0m\u001b[0;34m)\u001b[0m\u001b[0;34m)\u001b[0m\u001b[0;34m\u001b[0m\u001b[0;34m\u001b[0m\u001b[0m\n\u001b[0;32m--> 488\u001b[0;31m         \u001b[0mself\u001b[0m\u001b[0;34m.\u001b[0m\u001b[0mvariance\u001b[0m \u001b[0;34m=\u001b[0m \u001b[0;36m1.0\u001b[0m \u001b[0;34m/\u001b[0m \u001b[0mself\u001b[0m\u001b[0;34m.\u001b[0m\u001b[0mtau\u001b[0m\u001b[0;34m\u001b[0m\u001b[0;34m\u001b[0m\u001b[0m\n\u001b[0m\u001b[1;32m    489\u001b[0m \u001b[0;34m\u001b[0m\u001b[0m\n\u001b[1;32m    490\u001b[0m         \u001b[0massert_negative_support\u001b[0m\u001b[0;34m(\u001b[0m\u001b[0msigma\u001b[0m\u001b[0;34m,\u001b[0m \u001b[0;34m\"sigma\"\u001b[0m\u001b[0;34m,\u001b[0m \u001b[0;34m\"Normal\"\u001b[0m\u001b[0;34m)\u001b[0m\u001b[0;34m\u001b[0m\u001b[0;34m\u001b[0m\u001b[0m\n",
      "\u001b[0;32m~/opt/anaconda3/lib/python3.9/site-packages/theano/tensor/var.py\u001b[0m in \u001b[0;36m__rtruediv__\u001b[0;34m(self, other)\u001b[0m\n\u001b[1;32m    174\u001b[0m \u001b[0;34m\u001b[0m\u001b[0m\n\u001b[1;32m    175\u001b[0m     \u001b[0;32mdef\u001b[0m \u001b[0m__rtruediv__\u001b[0m\u001b[0;34m(\u001b[0m\u001b[0mself\u001b[0m\u001b[0;34m,\u001b[0m \u001b[0mother\u001b[0m\u001b[0;34m)\u001b[0m\u001b[0;34m:\u001b[0m\u001b[0;34m\u001b[0m\u001b[0;34m\u001b[0m\u001b[0m\n\u001b[0;32m--> 176\u001b[0;31m         \u001b[0;32mreturn\u001b[0m \u001b[0mtheano\u001b[0m\u001b[0;34m.\u001b[0m\u001b[0mtensor\u001b[0m\u001b[0;34m.\u001b[0m\u001b[0mbasic\u001b[0m\u001b[0;34m.\u001b[0m\u001b[0mtrue_div\u001b[0m\u001b[0;34m(\u001b[0m\u001b[0mother\u001b[0m\u001b[0;34m,\u001b[0m \u001b[0mself\u001b[0m\u001b[0;34m)\u001b[0m\u001b[0;34m\u001b[0m\u001b[0;34m\u001b[0m\u001b[0m\n\u001b[0m\u001b[1;32m    177\u001b[0m \u001b[0;34m\u001b[0m\u001b[0m\n\u001b[1;32m    178\u001b[0m     \u001b[0;32mdef\u001b[0m \u001b[0m__rfloordiv__\u001b[0m\u001b[0;34m(\u001b[0m\u001b[0mself\u001b[0m\u001b[0;34m,\u001b[0m \u001b[0mother\u001b[0m\u001b[0;34m)\u001b[0m\u001b[0;34m:\u001b[0m\u001b[0;34m\u001b[0m\u001b[0;34m\u001b[0m\u001b[0m\n",
      "\u001b[0;32m~/opt/anaconda3/lib/python3.9/site-packages/theano/graph/op.py\u001b[0m in \u001b[0;36m__call__\u001b[0;34m(self, *inputs, **kwargs)\u001b[0m\n\u001b[1;32m    251\u001b[0m \u001b[0;34m\u001b[0m\u001b[0m\n\u001b[1;32m    252\u001b[0m         \u001b[0;32mif\u001b[0m \u001b[0mconfig\u001b[0m\u001b[0;34m.\u001b[0m\u001b[0mcompute_test_value\u001b[0m \u001b[0;34m!=\u001b[0m \u001b[0;34m\"off\"\u001b[0m\u001b[0;34m:\u001b[0m\u001b[0;34m\u001b[0m\u001b[0;34m\u001b[0m\u001b[0m\n\u001b[0;32m--> 253\u001b[0;31m             \u001b[0mcompute_test_value\u001b[0m\u001b[0;34m(\u001b[0m\u001b[0mnode\u001b[0m\u001b[0;34m)\u001b[0m\u001b[0;34m\u001b[0m\u001b[0;34m\u001b[0m\u001b[0m\n\u001b[0m\u001b[1;32m    254\u001b[0m \u001b[0;34m\u001b[0m\u001b[0m\n\u001b[1;32m    255\u001b[0m         \u001b[0;32mif\u001b[0m \u001b[0mself\u001b[0m\u001b[0;34m.\u001b[0m\u001b[0mdefault_output\u001b[0m \u001b[0;32mis\u001b[0m \u001b[0;32mnot\u001b[0m \u001b[0;32mNone\u001b[0m\u001b[0;34m:\u001b[0m\u001b[0;34m\u001b[0m\u001b[0;34m\u001b[0m\u001b[0m\n",
      "\u001b[0;32m~/opt/anaconda3/lib/python3.9/site-packages/theano/graph/op.py\u001b[0m in \u001b[0;36mcompute_test_value\u001b[0;34m(node)\u001b[0m\n\u001b[1;32m    124\u001b[0m \u001b[0;34m\u001b[0m\u001b[0m\n\u001b[1;32m    125\u001b[0m     \u001b[0;31m# Create a thunk that performs the computation\u001b[0m\u001b[0;34m\u001b[0m\u001b[0;34m\u001b[0m\u001b[0m\n\u001b[0;32m--> 126\u001b[0;31m     \u001b[0mthunk\u001b[0m \u001b[0;34m=\u001b[0m \u001b[0mnode\u001b[0m\u001b[0;34m.\u001b[0m\u001b[0mop\u001b[0m\u001b[0;34m.\u001b[0m\u001b[0mmake_thunk\u001b[0m\u001b[0;34m(\u001b[0m\u001b[0mnode\u001b[0m\u001b[0;34m,\u001b[0m \u001b[0mstorage_map\u001b[0m\u001b[0;34m,\u001b[0m \u001b[0mcompute_map\u001b[0m\u001b[0;34m,\u001b[0m \u001b[0mno_recycling\u001b[0m\u001b[0;34m=\u001b[0m\u001b[0;34m[\u001b[0m\u001b[0;34m]\u001b[0m\u001b[0;34m)\u001b[0m\u001b[0;34m\u001b[0m\u001b[0;34m\u001b[0m\u001b[0m\n\u001b[0m\u001b[1;32m    127\u001b[0m     \u001b[0mthunk\u001b[0m\u001b[0;34m.\u001b[0m\u001b[0minputs\u001b[0m \u001b[0;34m=\u001b[0m \u001b[0;34m[\u001b[0m\u001b[0mstorage_map\u001b[0m\u001b[0;34m[\u001b[0m\u001b[0mv\u001b[0m\u001b[0;34m]\u001b[0m \u001b[0;32mfor\u001b[0m \u001b[0mv\u001b[0m \u001b[0;32min\u001b[0m \u001b[0mnode\u001b[0m\u001b[0;34m.\u001b[0m\u001b[0minputs\u001b[0m\u001b[0;34m]\u001b[0m\u001b[0;34m\u001b[0m\u001b[0;34m\u001b[0m\u001b[0m\n\u001b[1;32m    128\u001b[0m     \u001b[0mthunk\u001b[0m\u001b[0;34m.\u001b[0m\u001b[0moutputs\u001b[0m \u001b[0;34m=\u001b[0m \u001b[0;34m[\u001b[0m\u001b[0mstorage_map\u001b[0m\u001b[0;34m[\u001b[0m\u001b[0mv\u001b[0m\u001b[0;34m]\u001b[0m \u001b[0;32mfor\u001b[0m \u001b[0mv\u001b[0m \u001b[0;32min\u001b[0m \u001b[0mnode\u001b[0m\u001b[0;34m.\u001b[0m\u001b[0moutputs\u001b[0m\u001b[0;34m]\u001b[0m\u001b[0;34m\u001b[0m\u001b[0;34m\u001b[0m\u001b[0m\n",
      "\u001b[0;32m~/opt/anaconda3/lib/python3.9/site-packages/theano/graph/op.py\u001b[0m in \u001b[0;36mmake_thunk\u001b[0;34m(self, node, storage_map, compute_map, no_recycling, impl)\u001b[0m\n\u001b[1;32m    632\u001b[0m             )\n\u001b[1;32m    633\u001b[0m             \u001b[0;32mtry\u001b[0m\u001b[0;34m:\u001b[0m\u001b[0;34m\u001b[0m\u001b[0;34m\u001b[0m\u001b[0m\n\u001b[0;32m--> 634\u001b[0;31m                 \u001b[0;32mreturn\u001b[0m \u001b[0mself\u001b[0m\u001b[0;34m.\u001b[0m\u001b[0mmake_c_thunk\u001b[0m\u001b[0;34m(\u001b[0m\u001b[0mnode\u001b[0m\u001b[0;34m,\u001b[0m \u001b[0mstorage_map\u001b[0m\u001b[0;34m,\u001b[0m \u001b[0mcompute_map\u001b[0m\u001b[0;34m,\u001b[0m \u001b[0mno_recycling\u001b[0m\u001b[0;34m)\u001b[0m\u001b[0;34m\u001b[0m\u001b[0;34m\u001b[0m\u001b[0m\n\u001b[0m\u001b[1;32m    635\u001b[0m             \u001b[0;32mexcept\u001b[0m \u001b[0;34m(\u001b[0m\u001b[0mNotImplementedError\u001b[0m\u001b[0;34m,\u001b[0m \u001b[0mMethodNotDefined\u001b[0m\u001b[0;34m)\u001b[0m\u001b[0;34m:\u001b[0m\u001b[0;34m\u001b[0m\u001b[0;34m\u001b[0m\u001b[0m\n\u001b[1;32m    636\u001b[0m                 \u001b[0;31m# We requested the c code, so don't catch the error.\u001b[0m\u001b[0;34m\u001b[0m\u001b[0;34m\u001b[0m\u001b[0m\n",
      "\u001b[0;32m~/opt/anaconda3/lib/python3.9/site-packages/theano/graph/op.py\u001b[0m in \u001b[0;36mmake_c_thunk\u001b[0;34m(self, node, storage_map, compute_map, no_recycling)\u001b[0m\n\u001b[1;32m    598\u001b[0m                 \u001b[0mprint\u001b[0m\u001b[0;34m(\u001b[0m\u001b[0;34mf\"Disabling C code for {self} due to unsupported float16\"\u001b[0m\u001b[0;34m)\u001b[0m\u001b[0;34m\u001b[0m\u001b[0;34m\u001b[0m\u001b[0m\n\u001b[1;32m    599\u001b[0m                 \u001b[0;32mraise\u001b[0m \u001b[0mNotImplementedError\u001b[0m\u001b[0;34m(\u001b[0m\u001b[0;34m\"float16\"\u001b[0m\u001b[0;34m)\u001b[0m\u001b[0;34m\u001b[0m\u001b[0;34m\u001b[0m\u001b[0m\n\u001b[0;32m--> 600\u001b[0;31m         outputs = cl.make_thunk(\n\u001b[0m\u001b[1;32m    601\u001b[0m             \u001b[0minput_storage\u001b[0m\u001b[0;34m=\u001b[0m\u001b[0mnode_input_storage\u001b[0m\u001b[0;34m,\u001b[0m \u001b[0moutput_storage\u001b[0m\u001b[0;34m=\u001b[0m\u001b[0mnode_output_storage\u001b[0m\u001b[0;34m\u001b[0m\u001b[0;34m\u001b[0m\u001b[0m\n\u001b[1;32m    602\u001b[0m         )\n",
      "\u001b[0;32m~/opt/anaconda3/lib/python3.9/site-packages/theano/link/c/basic.py\u001b[0m in \u001b[0;36mmake_thunk\u001b[0;34m(self, input_storage, output_storage, storage_map)\u001b[0m\n\u001b[1;32m   1201\u001b[0m         \"\"\"\n\u001b[1;32m   1202\u001b[0m         \u001b[0minit_tasks\u001b[0m\u001b[0;34m,\u001b[0m \u001b[0mtasks\u001b[0m \u001b[0;34m=\u001b[0m \u001b[0mself\u001b[0m\u001b[0;34m.\u001b[0m\u001b[0mget_init_tasks\u001b[0m\u001b[0;34m(\u001b[0m\u001b[0;34m)\u001b[0m\u001b[0;34m\u001b[0m\u001b[0;34m\u001b[0m\u001b[0m\n\u001b[0;32m-> 1203\u001b[0;31m         cthunk, module, in_storage, out_storage, error_storage = self.__compile__(\n\u001b[0m\u001b[1;32m   1204\u001b[0m             \u001b[0minput_storage\u001b[0m\u001b[0;34m,\u001b[0m \u001b[0moutput_storage\u001b[0m\u001b[0;34m,\u001b[0m \u001b[0mstorage_map\u001b[0m\u001b[0;34m\u001b[0m\u001b[0;34m\u001b[0m\u001b[0m\n\u001b[1;32m   1205\u001b[0m         )\n",
      "\u001b[0;32m~/opt/anaconda3/lib/python3.9/site-packages/theano/link/c/basic.py\u001b[0m in \u001b[0;36m__compile__\u001b[0;34m(self, input_storage, output_storage, storage_map)\u001b[0m\n\u001b[1;32m   1136\u001b[0m         \u001b[0minput_storage\u001b[0m \u001b[0;34m=\u001b[0m \u001b[0mtuple\u001b[0m\u001b[0;34m(\u001b[0m\u001b[0minput_storage\u001b[0m\u001b[0;34m)\u001b[0m\u001b[0;34m\u001b[0m\u001b[0;34m\u001b[0m\u001b[0m\n\u001b[1;32m   1137\u001b[0m         \u001b[0moutput_storage\u001b[0m \u001b[0;34m=\u001b[0m \u001b[0mtuple\u001b[0m\u001b[0;34m(\u001b[0m\u001b[0moutput_storage\u001b[0m\u001b[0;34m)\u001b[0m\u001b[0;34m\u001b[0m\u001b[0;34m\u001b[0m\u001b[0m\n\u001b[0;32m-> 1138\u001b[0;31m         thunk, module = self.cthunk_factory(\n\u001b[0m\u001b[1;32m   1139\u001b[0m             \u001b[0merror_storage\u001b[0m\u001b[0;34m,\u001b[0m\u001b[0;34m\u001b[0m\u001b[0;34m\u001b[0m\u001b[0m\n\u001b[1;32m   1140\u001b[0m             \u001b[0minput_storage\u001b[0m\u001b[0;34m,\u001b[0m\u001b[0;34m\u001b[0m\u001b[0;34m\u001b[0m\u001b[0m\n",
      "\u001b[0;32m~/opt/anaconda3/lib/python3.9/site-packages/theano/link/c/basic.py\u001b[0m in \u001b[0;36mcthunk_factory\u001b[0;34m(self, error_storage, in_storage, out_storage, storage_map)\u001b[0m\n\u001b[1;32m   1632\u001b[0m             \u001b[0;32mfor\u001b[0m \u001b[0mnode\u001b[0m \u001b[0;32min\u001b[0m \u001b[0mself\u001b[0m\u001b[0;34m.\u001b[0m\u001b[0mnode_order\u001b[0m\u001b[0;34m:\u001b[0m\u001b[0;34m\u001b[0m\u001b[0;34m\u001b[0m\u001b[0m\n\u001b[1;32m   1633\u001b[0m                 \u001b[0mnode\u001b[0m\u001b[0;34m.\u001b[0m\u001b[0mop\u001b[0m\u001b[0;34m.\u001b[0m\u001b[0mprepare_node\u001b[0m\u001b[0;34m(\u001b[0m\u001b[0mnode\u001b[0m\u001b[0;34m,\u001b[0m \u001b[0mstorage_map\u001b[0m\u001b[0;34m,\u001b[0m \u001b[0;32mNone\u001b[0m\u001b[0;34m,\u001b[0m \u001b[0;34m\"c\"\u001b[0m\u001b[0;34m)\u001b[0m\u001b[0;34m\u001b[0m\u001b[0;34m\u001b[0m\u001b[0m\n\u001b[0;32m-> 1634\u001b[0;31m             \u001b[0mmodule\u001b[0m \u001b[0;34m=\u001b[0m \u001b[0mget_module_cache\u001b[0m\u001b[0;34m(\u001b[0m\u001b[0;34m)\u001b[0m\u001b[0;34m.\u001b[0m\u001b[0mmodule_from_key\u001b[0m\u001b[0;34m(\u001b[0m\u001b[0mkey\u001b[0m\u001b[0;34m=\u001b[0m\u001b[0mkey\u001b[0m\u001b[0;34m,\u001b[0m \u001b[0mlnk\u001b[0m\u001b[0;34m=\u001b[0m\u001b[0mself\u001b[0m\u001b[0;34m)\u001b[0m\u001b[0;34m\u001b[0m\u001b[0;34m\u001b[0m\u001b[0m\n\u001b[0m\u001b[1;32m   1635\u001b[0m \u001b[0;34m\u001b[0m\u001b[0m\n\u001b[1;32m   1636\u001b[0m         \u001b[0mvars\u001b[0m \u001b[0;34m=\u001b[0m \u001b[0mself\u001b[0m\u001b[0;34m.\u001b[0m\u001b[0minputs\u001b[0m \u001b[0;34m+\u001b[0m \u001b[0mself\u001b[0m\u001b[0;34m.\u001b[0m\u001b[0moutputs\u001b[0m \u001b[0;34m+\u001b[0m \u001b[0mself\u001b[0m\u001b[0;34m.\u001b[0m\u001b[0morphans\u001b[0m\u001b[0;34m\u001b[0m\u001b[0;34m\u001b[0m\u001b[0m\n",
      "\u001b[0;32m~/opt/anaconda3/lib/python3.9/site-packages/theano/link/c/cmodule.py\u001b[0m in \u001b[0;36mmodule_from_key\u001b[0;34m(self, key, lnk)\u001b[0m\n\u001b[1;32m   1189\u001b[0m             \u001b[0;32mtry\u001b[0m\u001b[0;34m:\u001b[0m\u001b[0;34m\u001b[0m\u001b[0;34m\u001b[0m\u001b[0m\n\u001b[1;32m   1190\u001b[0m                 \u001b[0mlocation\u001b[0m \u001b[0;34m=\u001b[0m \u001b[0mdlimport_workdir\u001b[0m\u001b[0;34m(\u001b[0m\u001b[0mself\u001b[0m\u001b[0;34m.\u001b[0m\u001b[0mdirname\u001b[0m\u001b[0;34m)\u001b[0m\u001b[0;34m\u001b[0m\u001b[0;34m\u001b[0m\u001b[0m\n\u001b[0;32m-> 1191\u001b[0;31m                 \u001b[0mmodule\u001b[0m \u001b[0;34m=\u001b[0m \u001b[0mlnk\u001b[0m\u001b[0;34m.\u001b[0m\u001b[0mcompile_cmodule\u001b[0m\u001b[0;34m(\u001b[0m\u001b[0mlocation\u001b[0m\u001b[0;34m)\u001b[0m\u001b[0;34m\u001b[0m\u001b[0;34m\u001b[0m\u001b[0m\n\u001b[0m\u001b[1;32m   1192\u001b[0m                 \u001b[0mname\u001b[0m \u001b[0;34m=\u001b[0m \u001b[0mmodule\u001b[0m\u001b[0;34m.\u001b[0m\u001b[0m__file__\u001b[0m\u001b[0;34m\u001b[0m\u001b[0;34m\u001b[0m\u001b[0m\n\u001b[1;32m   1193\u001b[0m                 \u001b[0;32massert\u001b[0m \u001b[0mname\u001b[0m\u001b[0;34m.\u001b[0m\u001b[0mstartswith\u001b[0m\u001b[0;34m(\u001b[0m\u001b[0mlocation\u001b[0m\u001b[0;34m)\u001b[0m\u001b[0;34m\u001b[0m\u001b[0;34m\u001b[0m\u001b[0m\n",
      "\u001b[0;32m~/opt/anaconda3/lib/python3.9/site-packages/theano/link/c/basic.py\u001b[0m in \u001b[0;36mcompile_cmodule\u001b[0;34m(self, location)\u001b[0m\n\u001b[1;32m   1541\u001b[0m             \u001b[0;32mtry\u001b[0m\u001b[0;34m:\u001b[0m\u001b[0;34m\u001b[0m\u001b[0;34m\u001b[0m\u001b[0m\n\u001b[1;32m   1542\u001b[0m                 \u001b[0m_logger\u001b[0m\u001b[0;34m.\u001b[0m\u001b[0mdebug\u001b[0m\u001b[0;34m(\u001b[0m\u001b[0;34mf\"LOCATION {location}\"\u001b[0m\u001b[0;34m)\u001b[0m\u001b[0;34m\u001b[0m\u001b[0;34m\u001b[0m\u001b[0m\n\u001b[0;32m-> 1543\u001b[0;31m                 module = c_compiler.compile_str(\n\u001b[0m\u001b[1;32m   1544\u001b[0m                     \u001b[0mmodule_name\u001b[0m\u001b[0;34m=\u001b[0m\u001b[0mmod\u001b[0m\u001b[0;34m.\u001b[0m\u001b[0mcode_hash\u001b[0m\u001b[0;34m,\u001b[0m\u001b[0;34m\u001b[0m\u001b[0;34m\u001b[0m\u001b[0m\n\u001b[1;32m   1545\u001b[0m                     \u001b[0msrc_code\u001b[0m\u001b[0;34m=\u001b[0m\u001b[0msrc_code\u001b[0m\u001b[0;34m,\u001b[0m\u001b[0;34m\u001b[0m\u001b[0;34m\u001b[0m\u001b[0m\n",
      "\u001b[0;32m~/opt/anaconda3/lib/python3.9/site-packages/theano/link/c/cmodule.py\u001b[0m in \u001b[0;36mcompile_str\u001b[0;34m(module_name, src_code, location, include_dirs, lib_dirs, libs, preargs, py_module, hide_symbols)\u001b[0m\n\u001b[1;32m   2544\u001b[0m             \u001b[0;31m# difficult to read.\u001b[0m\u001b[0;34m\u001b[0m\u001b[0;34m\u001b[0m\u001b[0m\n\u001b[1;32m   2545\u001b[0m             \u001b[0mcompile_stderr\u001b[0m \u001b[0;34m=\u001b[0m \u001b[0mcompile_stderr\u001b[0m\u001b[0;34m.\u001b[0m\u001b[0mreplace\u001b[0m\u001b[0;34m(\u001b[0m\u001b[0;34m\"\\n\"\u001b[0m\u001b[0;34m,\u001b[0m \u001b[0;34m\". \"\u001b[0m\u001b[0;34m)\u001b[0m\u001b[0;34m\u001b[0m\u001b[0;34m\u001b[0m\u001b[0m\n\u001b[0;32m-> 2546\u001b[0;31m             raise Exception(\n\u001b[0m\u001b[1;32m   2547\u001b[0m                 \u001b[0;34mf\"Compilation failed (return status={status}): {compile_stderr}\"\u001b[0m\u001b[0;34m\u001b[0m\u001b[0;34m\u001b[0m\u001b[0m\n\u001b[1;32m   2548\u001b[0m             )\n",
      "\u001b[0;31mException\u001b[0m: (\"Compilation failed (return status=1): In file included from /Users/burke.227/.theano/compiledir_macOS-10.16-x86_64-i386-64bit-i386-3.9.7-64/tmp9r5nnvbi/mod.cpp:1:. In file included from /Users/burke.227/opt/anaconda3/include/python3.9/Python.h:25:. /Library/Developer/CommandLineTools/usr/bin/../include/c++/v1/stdio.h:107:15: fatal error: 'stdio.h' file not found. #include_next <stdio.h>.               ^~~~~~~~~. 1 error generated.. \", 'FunctionGraph(Elemwise{true_div,no_inplace}(TensorConstant{1.0}, TensorConstant{1.0}))')"
     ]
    }
   ],
   "source": [
    "X = np.arange(0, 100, 0.01)\n",
    "Y = X * 1.2\n",
    "\n",
    "with pm.Model() as linear_model:\n",
    "    weights = pm.Normal(\"weights\", mu=0, sigma=1)\n",
    "    noise = pm.Gamma(\"noise\", alpha=2, beta=1)\n",
    "    y_observed = pm.Normal(\n",
    "        \"y_observed\",\n",
    "        mu=X @ weights,\n",
    "        sigma=noise,\n",
    "        observed=y,\n",
    "    )\n",
    "\n",
    "    prior = pm.sample_prior_predictive()\n",
    "    posterior = pm.sample()\n",
    "    posterior_pred = pm.sample_posterior_predictive(posterior)"
   ]
  },
  {
   "cell_type": "code",
   "execution_count": 8,
   "id": "26d9c659",
   "metadata": {},
   "outputs": [],
   "source": [
    "import theano"
   ]
  },
  {
   "cell_type": "code",
   "execution_count": null,
   "id": "83b99d30",
   "metadata": {},
   "outputs": [],
   "source": []
  }
 ],
 "metadata": {
  "kernelspec": {
   "display_name": "Python 3 (ipykernel)",
   "language": "python",
   "name": "python3"
  },
  "language_info": {
   "codemirror_mode": {
    "name": "ipython",
    "version": 3
   },
   "file_extension": ".py",
   "mimetype": "text/x-python",
   "name": "python",
   "nbconvert_exporter": "python",
   "pygments_lexer": "ipython3",
   "version": "3.10.9"
  }
 },
 "nbformat": 4,
 "nbformat_minor": 5
}

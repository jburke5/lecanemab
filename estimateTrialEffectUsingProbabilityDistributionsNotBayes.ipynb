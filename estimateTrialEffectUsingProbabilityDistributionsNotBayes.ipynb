{
 "cells": [
  {
   "cell_type": "markdown",
   "id": "2543a7f8",
   "metadata": {},
   "source": [
    "### Background parameters and citations"
   ]
  },
  {
   "cell_type": "code",
   "execution_count": 1,
   "id": "17725719",
   "metadata": {},
   "outputs": [
    {
     "name": "stdout",
     "output_type": "stream",
     "text": [
      "mmse to CRDR slope : -1.48\n"
     ]
    }
   ],
   "source": [
    "# take the general effect of amyloid lowering -> improved cognition rom the meta0analysis \n",
    "# Ackley SF, Zimmerman SC, Brenowitz WD, Tchetgen EJT, Gold AL, Manly JJ, Mayeda ER, Filshtein TJ, Power MC, Elahi FM, Brickman AM, Glymour MM. Effect of reductions in amyloid levels on cognitive change in randomized trials: instrumental variable meta-analysis. Bmj. 2021;372:n156.\n",
    "\n",
    "## redtag - make sure to get the updated version of this that added teh extra data, there is an errata to the initial paper\n",
    "\n",
    "# for all da\n",
    "\n",
    "# this will give us change in amyloid lowering -> MMSE\n",
    "\n",
    "allDataSUVRToMMSEMean = 0.034\n",
    "allDataSUVRToMMSESE = 0.046\n",
    "\n",
    "amyloidSUVRTToMMSEMean = 0.044\n",
    "amyloidSUVRTToMMSESE = 0.049\n",
    "\n",
    "# it looks like they have an version of this that uses CDR-SB in their appendix\n",
    "# it also looks like they have an updated version of the analysis on their shiny app: https://amyloidintegratingevidence.shinyapps.io/Shiny/ \n",
    "\n",
    "# generate a prior — multiply the eneral effect by the distribution fo that association to get the expected effect of lecanemab\n",
    "# redtag: need to clarify what SUVR means...going to assume that # going to assume that their degree of amyloid in % change in centiloids transfers to SUVR\n",
    "\n",
    "# not sure if this should be on a relative scale or an absolute one\n",
    "changeIn18MonthSUVRMean = 55.5\n",
    "changeIn18MonthSUVRSE = 1.80\n",
    "\n",
    "averageBaselineCentiloids = 76.5\n",
    "\n",
    "# this represents data from the lecanemab trial on the SURV reduction, in 0.1 unit SUR\n",
    "relativeChangeIn18MonthSUVRMean = changeIn18MonthSUVRMean/averageBaselineCentiloids*10\n",
    "relativeChangeIn18MonthSUVRSE = changeIn18MonthSUVRSE/averageBaselineCentiloids*10\n",
    "\n",
    "mmseToCDRSBIntercept = 30\n",
    "mmseToCDRSBSlope = (20.75-30)/6.25\n",
    "\n",
    "cdrToMMSEIntercept = -1*  mmseToCDRSBIntercept\n",
    "cdrToMMSEslope = 1/mmseToCDRSBSlope\n",
    "print(f\"mmse to CRDR slope : {mmseToCDRSBSlope}\")\n",
    "\n",
    "# update the prior using the observed effect from the lecanemab trial...to get a posterior\n",
    "\n",
    "meanCDRSBChangeWithLecanemabInTrial=-0.45\n",
    "sdCDRSBChangeWithLecanemabInTrial=0.11"
   ]
  },
  {
   "cell_type": "markdown",
   "id": "8ccbb9c0",
   "metadata": {},
   "source": [
    "### Estimate Prior and transformations"
   ]
  },
  {
   "cell_type": "code",
   "execution_count": 5,
   "id": "175de491",
   "metadata": {},
   "outputs": [],
   "source": [
    "sampleSize = 1000000\n",
    "import numpy as np\n",
    "import numpy.random as rand\n",
    "\n",
    "mmseOverSUVR = rand.normal(loc=allDataSUVRToMMSEMean, scale =allDataSUVRToMMSESE, size=sampleSize)\n",
    "\n",
    "# this represents data from the lecanemab trial on the SUVR reduction, in 0.1 unit SUR \n",
    "# it is a random variale accounting for the error in the magnitude of SUVR reduction in the trial\n",
    "lecanemabSUVRChange = rand.normal(loc=relativeChangeIn18MonthSUVRMean, scale =relativeChangeIn18MonthSUVRSE, size=sampleSize)\n",
    "\n",
    "lecanemabMMSEEffect = mmseOverSUVR * lecanemabSUVRChange\n",
    "lecanemabCDREffect = lecanemabMMSEEffect/mmseToCDRSBSlope\n"
   ]
  },
  {
   "cell_type": "code",
   "execution_count": 6,
   "id": "2e942e32",
   "metadata": {},
   "outputs": [],
   "source": [
    "### LIkelihood and posterior"
   ]
  },
  {
   "cell_type": "code",
   "execution_count": 12,
   "id": "b8ec4e85",
   "metadata": {},
   "outputs": [],
   "source": [
    "# this is the change in CDR from the trial\n",
    "cdrChangeWithTreatment = rand.normal(meanCDRSBChangeWithLecanemabInTrial, sdCDRSBChangeWithLecanemabInTrial, size=sampleSize)\n",
    "posterior = -1*lecanemabCDREffect*cdrChangeWithTreatment\n"
   ]
  },
  {
   "cell_type": "code",
   "execution_count": 11,
   "id": "0891438c",
   "metadata": {},
   "outputs": [
    {
     "data": {
      "text/plain": [
       "['T',\n",
       " '__abs__',\n",
       " '__add__',\n",
       " '__and__',\n",
       " '__array__',\n",
       " '__array_finalize__',\n",
       " '__array_function__',\n",
       " '__array_interface__',\n",
       " '__array_prepare__',\n",
       " '__array_priority__',\n",
       " '__array_struct__',\n",
       " '__array_ufunc__',\n",
       " '__array_wrap__',\n",
       " '__bool__',\n",
       " '__class__',\n",
       " '__complex__',\n",
       " '__contains__',\n",
       " '__copy__',\n",
       " '__deepcopy__',\n",
       " '__delattr__',\n",
       " '__delitem__',\n",
       " '__dir__',\n",
       " '__divmod__',\n",
       " '__doc__',\n",
       " '__eq__',\n",
       " '__float__',\n",
       " '__floordiv__',\n",
       " '__format__',\n",
       " '__ge__',\n",
       " '__getattribute__',\n",
       " '__getitem__',\n",
       " '__gt__',\n",
       " '__hash__',\n",
       " '__iadd__',\n",
       " '__iand__',\n",
       " '__ifloordiv__',\n",
       " '__ilshift__',\n",
       " '__imatmul__',\n",
       " '__imod__',\n",
       " '__imul__',\n",
       " '__index__',\n",
       " '__init__',\n",
       " '__init_subclass__',\n",
       " '__int__',\n",
       " '__invert__',\n",
       " '__ior__',\n",
       " '__ipow__',\n",
       " '__irshift__',\n",
       " '__isub__',\n",
       " '__iter__',\n",
       " '__itruediv__',\n",
       " '__ixor__',\n",
       " '__le__',\n",
       " '__len__',\n",
       " '__lshift__',\n",
       " '__lt__',\n",
       " '__matmul__',\n",
       " '__mod__',\n",
       " '__mul__',\n",
       " '__ne__',\n",
       " '__neg__',\n",
       " '__new__',\n",
       " '__or__',\n",
       " '__pos__',\n",
       " '__pow__',\n",
       " '__radd__',\n",
       " '__rand__',\n",
       " '__rdivmod__',\n",
       " '__reduce__',\n",
       " '__reduce_ex__',\n",
       " '__repr__',\n",
       " '__rfloordiv__',\n",
       " '__rlshift__',\n",
       " '__rmatmul__',\n",
       " '__rmod__',\n",
       " '__rmul__',\n",
       " '__ror__',\n",
       " '__rpow__',\n",
       " '__rrshift__',\n",
       " '__rshift__',\n",
       " '__rsub__',\n",
       " '__rtruediv__',\n",
       " '__rxor__',\n",
       " '__setattr__',\n",
       " '__setitem__',\n",
       " '__setstate__',\n",
       " '__sizeof__',\n",
       " '__str__',\n",
       " '__sub__',\n",
       " '__subclasshook__',\n",
       " '__truediv__',\n",
       " '__xor__',\n",
       " 'all',\n",
       " 'any',\n",
       " 'argmax',\n",
       " 'argmin',\n",
       " 'argpartition',\n",
       " 'argsort',\n",
       " 'astype',\n",
       " 'base',\n",
       " 'byteswap',\n",
       " 'choose',\n",
       " 'clip',\n",
       " 'compress',\n",
       " 'conj',\n",
       " 'conjugate',\n",
       " 'copy',\n",
       " 'ctypes',\n",
       " 'cumprod',\n",
       " 'cumsum',\n",
       " 'data',\n",
       " 'diagonal',\n",
       " 'dot',\n",
       " 'dtype',\n",
       " 'dump',\n",
       " 'dumps',\n",
       " 'fill',\n",
       " 'flags',\n",
       " 'flat',\n",
       " 'flatten',\n",
       " 'getfield',\n",
       " 'imag',\n",
       " 'item',\n",
       " 'itemset',\n",
       " 'itemsize',\n",
       " 'max',\n",
       " 'mean',\n",
       " 'min',\n",
       " 'nbytes',\n",
       " 'ndim',\n",
       " 'newbyteorder',\n",
       " 'nonzero',\n",
       " 'partition',\n",
       " 'prod',\n",
       " 'ptp',\n",
       " 'put',\n",
       " 'ravel',\n",
       " 'real',\n",
       " 'repeat',\n",
       " 'reshape',\n",
       " 'resize',\n",
       " 'round',\n",
       " 'searchsorted',\n",
       " 'setfield',\n",
       " 'setflags',\n",
       " 'shape',\n",
       " 'size',\n",
       " 'sort',\n",
       " 'squeeze',\n",
       " 'std',\n",
       " 'strides',\n",
       " 'sum',\n",
       " 'swapaxes',\n",
       " 'take',\n",
       " 'tobytes',\n",
       " 'tofile',\n",
       " 'tolist',\n",
       " 'tostring',\n",
       " 'trace',\n",
       " 'transpose',\n",
       " 'var',\n",
       " 'view']"
      ]
     },
     "execution_count": 11,
     "metadata": {},
     "output_type": "execute_result"
    }
   ],
   "source": [
    "dir(lecanemabCDREffect)"
   ]
  },
  {
   "cell_type": "code",
   "execution_count": null,
   "id": "48a361c5",
   "metadata": {},
   "outputs": [],
   "source": []
  },
  {
   "cell_type": "code",
   "execution_count": 13,
   "id": "ea9627fb",
   "metadata": {},
   "outputs": [
    {
     "data": {
      "text/plain": [
       "<matplotlib.legend.Legend at 0x7fb821e573a0>"
      ]
     },
     "execution_count": 13,
     "metadata": {},
     "output_type": "execute_result"
    },
    {
     "data": {
      "image/png": "[encoded data removed]",
      "text/plain": [
       "<Figure size 640x480 with 1 Axes>"
      ]
     },
     "metadata": {},
     "output_type": "display_data"
    }
   ],
   "source": [
    "import matplotlib.pyplot as plt\n",
    "plt.hist(lecanemabCDREffect, bins=1000, label=\"Prior\", alpha=0.5)\n",
    "plt.hist(cdrChangeWithTreatment, bins=1000, label=\"Likelihood\", alpha=0.5)\n",
    "plt.hist(posterior, bins=1000, label='Posterior', alpha=0.5)\n",
    "plt.legend()\n"
   ]
  },
  {
   "cell_type": "code",
   "execution_count": 6,
   "id": "6cf165e8",
   "metadata": {},
   "outputs": [
    {
     "data": {
      "text/plain": [
       "(array([2.4000e+01, 3.1400e+02, 2.6830e+03, 1.1524e+04, 2.6358e+04,\n",
       "        3.1751e+04, 1.9652e+04, 6.5090e+03, 1.0910e+03, 9.4000e+01]),\n",
       " array([-1.15344887, -0.96642732, -0.77940577, -0.59238421, -0.40536266,\n",
       "        -0.21834111, -0.03131956,  0.155702  ,  0.34272355,  0.5297451 ,\n",
       "         0.71676665]),\n",
       " <BarContainer object of 10 artists>)"
      ]
     },
     "execution_count": 6,
     "metadata": {},
     "output_type": "execute_result"
    },
    {
     "data": {
      "image/png": "[encoded data removed]",
      "text/plain": [
       "<Figure size 640x480 with 1 Axes>"
      ]
     },
     "metadata": {},
     "output_type": "display_data"
    }
   ],
   "source": [
    "import matplotlib.pyplot as plt\n",
    "plt.hist(lecanemabCDREffect)"
   ]
  },
  {
   "cell_type": "code",
   "execution_count": 9,
   "id": "ab223651",
   "metadata": {},
   "outputs": [
    {
     "data": {
      "text/plain": [
       "-0.16662718280718844"
      ]
     },
     "execution_count": 9,
     "metadata": {},
     "output_type": "execute_result"
    }
   ],
   "source": [
    "lecanemabCDREffect.mean()"
   ]
  },
  {
   "cell_type": "code",
   "execution_count": null,
   "id": "cc32e5a8",
   "metadata": {},
   "outputs": [],
   "source": []
  }
 ],
 "metadata": {
  "kernelspec": {
   "display_name": "Python 3 (ipykernel)",
   "language": "python",
   "name": "python3"
  },
  "language_info": {
   "codemirror_mode": {
    "name": "ipython",
    "version": 3
   },
   "file_extension": ".py",
   "mimetype": "text/x-python",
   "name": "python",
   "nbconvert_exporter": "python",
   "pygments_lexer": "ipython3",
   "version": "3.9.13"
  }
 },
 "nbformat": 4,
 "nbformat_minor": 5
}

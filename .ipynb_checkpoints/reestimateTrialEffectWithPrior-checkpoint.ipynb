{
 "cells": [
  {
   "cell_type": "code",
   "execution_count": 1,
   "id": "f198833d",
   "metadata": {},
   "outputs": [],
   "source": [
    "# take the general effect of amyloid lowering -> improved cognition rom the meta0analysis \n",
    "# Ackley SF, Zimmerman SC, Brenowitz WD, Tchetgen EJT, Gold AL, Manly JJ, Mayeda ER, Filshtein TJ, Power MC, Elahi FM, Brickman AM, Glymour MM. Effect of reductions in amyloid levels on cognitive change in randomized trials: instrumental variable meta-analysis. Bmj. 2021;372:n156.\n",
    "\n",
    "## redtag - make sure to get the updated version of this that added teh extra data, there is an errata to the initial paper\n",
    "\n",
    "# for all da\n",
    "\n",
    "# this will give us change in amyloid lowering -> MMSE\n",
    "\n",
    "allDataSUVRToMMSEMean = 0.034\n",
    "allDataSUVRToMMSESE = 0.046\n",
    "\n",
    "amyloidSUVRTToMMSEMean = 0.044\n",
    "amyloidSUVRTToMMSESE = 0.049\n",
    "\n",
    "# it looks like they have an version of this that uses CDR-SB in their appendix\n",
    "# it also looks like they have an updated version of the analysis on their shiny app: https://amyloidintegratingevidence.shinyapps.io/Shiny/ "
   ]
  },
  {
   "cell_type": "code",
   "execution_count": null,
   "id": "ff2f0e70",
   "metadata": {},
   "outputs": [],
   "source": []
  },
  {
   "cell_type": "code",
   "execution_count": 2,
   "id": "82277779",
   "metadata": {},
   "outputs": [],
   "source": [
    "# generate a prior — multiply the eneral effect by the distribution fo that association to get the expected effect of lecanemab\n",
    "# redtag: need to clarify what SUVR means...going to assume that # going to assume that their degree of amyloid in % change in centiloids transfers to SUVR\n",
    "\n",
    "# not sure if this should be on a relative scale or an absolute one\n",
    "changeIn18MonthSUVRMean = 55.5\n",
    "changeIn18MonthSUVRSE = 1.80\n",
    "\n",
    "averageBaselineCentiloids = 76.5\n",
    "\n",
    "relativeChangeIn18MonthSUVRMean = changeIn18MonthSUVRMean/averageBaselineCentiloids\n",
    "relativeChangeIn18MonthSUVRSE = changeIn18MonthSUVRSE/averageBaselineCentiloids\n",
    "\n",
    "\n",
    "# update the prior using the observed effect from the lecanemab trial...to get a posterior"
   ]
  },
  {
   "cell_type": "code",
   "execution_count": 5,
   "id": "89b03a5e",
   "metadata": {},
   "outputs": [
    {
     "data": {
      "text/plain": [
       "0.7254901960784313"
      ]
     },
     "execution_count": 5,
     "metadata": {},
     "output_type": "execute_result"
    }
   ],
   "source": [
    "relativeChangeIn18MonthSUVRMean\n"
   ]
  },
  {
   "cell_type": "code",
   "execution_count": 8,
   "id": "bcd8dce7",
   "metadata": {},
   "outputs": [
    {
     "data": {
      "text/plain": [
       "<matplotlib.collections.PathCollection at 0x7f85ae3c3e50>"
      ]
     },
     "execution_count": 8,
     "metadata": {},
     "output_type": "execute_result"
    },
    {
     "data": {
      "image/png": "[encoded data removed]",
      "text/plain": [
       "<Figure size 432x288 with 1 Axes>"
      ]
     },
     "metadata": {
      "needs_background": "light"
     },
     "output_type": "display_data"
    }
   ],
   "source": [
    "import numpy as np\n",
    "import matplotlib.pyplot as plt\n",
    "\n",
    "# reproducing the MMSE -> CDR-SB measure converion from Ackley\n",
    "# https://www.bmj.com/content/bmj/suppl/2021/02/25/bmj.n156.DC1/acks057847.ww.pdf\n",
    "mmseToCDRSBIntercept = 30\n",
    "mmseToCDRSBSlope = (20.75-30)/6.25\n",
    "\n",
    "xs = np.arange(0, 7, .1)\n",
    "ys = mmseToCDRSBIntercept + xs*mmseToCDRSBSlope\n",
    "plt.scatter(xs, ys)"
   ]
  },
  {
   "cell_type": "code",
   "execution_count": 3,
   "id": "9e897f80",
   "metadata": {},
   "outputs": [],
   "source": [
    "# use appendix 4 fro the ackley paper to convert the MMSE posterior to a postrioer aligned with teh primary outcomes of the lecanemab trial"
   ]
  },
  {
   "cell_type": "code",
   "execution_count": 4,
   "id": "73e11c9e",
   "metadata": {},
   "outputs": [
    {
     "name": "stderr",
     "output_type": "stream",
     "text": [
      "WARNING (theano.tensor.blas): Using NumPy C-API based implementation for BLAS functions.\n"
     ]
    }
   ],
   "source": [
    "import pymc3 as pm"
   ]
  },
  {
   "cell_type": "code",
   "execution_count": null,
   "id": "f5869aa9",
   "metadata": {},
   "outputs": [],
   "source": [
    "# 1. surv to MMSE from paper\n",
    "# 2. SUVR to CDR-SB from paper appendix\n",
    "# 3. SURV to CDR-SB * lecanemabic SUVR change\n",
    "# 5. lecanemab trial data on CDR-SB\n",
    "\n",
    "with pm.Model() as model:\n",
    "    suvrToMMSE = pm.Normal('suvrToMMSE', mu=allDataSUVRToMMSEMean, sigma =allDataSUVRToMMSESE)\n",
    "    suvrToCDR = mmseToCDRSBIntercept + mmseToCDRSBSlope*suvrToMMSE\n",
    "    lecanemabSUVRChange = pm.Normal('lecanemabSUVRChange', mu=relativeChangeIn18MonthSUVRMean, sigma =relativeChangeIn18MonthSUVRSE)\n",
    "    \n",
    "    prior = suvrToCDR * lecanemabSUVRChange\n",
    "    \n",
    "    observed = pm.Normal('mmseChangeWithTreatment')\n",
    "    \n",
    "    slope = pm.Normal(\"slope\", mu=0, sigma=1)\n",
    "    intercept = pm.Normal(\"intercept\", mu=0, sigma=1)\n",
    "    σ = pm.HalfNormal(\"σ\", sd=1)\n",
    "    y_likelihood = pm.Normal(\"y_likelihood\", mu=slope * x + intercept, sigma=σ, observed=y)\n",
    "    left_censored = pm.Potential(\n",
    "        \"left_censored\", normal_lcdf(slope * x_lc + intercept, σ, y_lc)\n",
    "    )\n",
    "    right_censored = pm.Potential(\n",
    "        \"right_censored\", normal_lccdf(slope * x_rc + intercept, σ, y_rc)\n",
    "    )\n",
    "\n"
   ]
  }
 ],
 "metadata": {
  "kernelspec": {
   "display_name": "Python 3 (ipykernel)",
   "language": "python",
   "name": "python3"
  },
  "language_info": {
   "codemirror_mode": {
    "name": "ipython",
    "version": 3
   },
   "file_extension": ".py",
   "mimetype": "text/x-python",
   "name": "python",
   "nbconvert_exporter": "python",
   "pygments_lexer": "ipython3",
   "version": "3.9.7"
  }
 },
 "nbformat": 4,
 "nbformat_minor": 5
}
